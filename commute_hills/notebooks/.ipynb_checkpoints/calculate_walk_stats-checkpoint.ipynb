{
 "cells": [
  {
   "cell_type": "markdown",
   "id": "7fcb77a9",
   "metadata": {},
   "source": [
    "<h1>Shaping Walking Data</h1>\n",
    "This notebook takes .csv data and calculates walking statistics, exporting results in a separate folder as csv"
   ]
  },
  {
   "cell_type": "markdown",
   "id": "815451b1",
   "metadata": {},
   "source": [
    "<h1>Set Parameters</h1>"
   ]
  },
  {
   "cell_type": "code",
   "execution_count": 1,
   "id": "03537288",
   "metadata": {},
   "outputs": [],
   "source": [
    "path_input = '../data/commute_riverside.csv'\n",
    "path_output = '../results/commute_riverside.csv'"
   ]
  },
  {
   "cell_type": "markdown",
   "id": "dfb8b817",
   "metadata": {},
   "source": [
    "<h1>Import Needed Libraries</h1>"
   ]
  },
  {
   "cell_type": "code",
   "execution_count": 2,
   "id": "f1c1cf23",
   "metadata": {},
   "outputs": [],
   "source": [
    "import csv\n",
    "import pandas as pd\n",
    "\n",
    "#for reading GPX files\n",
    "\n",
    "import gpxpy \n",
    "\n",
    "#for calculating distance and slope\n",
    "import geopy.distance \n",
    "import numpy as np\n",
    "\n",
    "#for calculating degrees\n",
    "#import math"
   ]
  },
  {
   "cell_type": "markdown",
   "id": "c1bcb7cc",
   "metadata": {},
   "source": [
    "<h1>Define Functions for Calculations</h1>"
   ]
  },
  {
   "cell_type": "code",
   "execution_count": 3,
   "id": "55943840",
   "metadata": {},
   "outputs": [],
   "source": [
    "# \"vectorized haversine function\" used for calculating distance between GPS coordinates\n",
    "# found at https://stackoverflow.com/questions/29545704/fast-haversine-approximation-python-pandas/29546836#29546836\n",
    "def haversine(lat1, lon1, lat2, lon2, to_radians=True, earth_radius=6371):\n",
    "    \"\"\"\n",
    "    slightly modified version: of http://stackoverflow.com/a/29546836/2901002\n",
    "\n",
    "    Calculate the great circle distance between two points\n",
    "    on the earth (specified in decimal degrees or in radians)\n",
    "\n",
    "    All (lat, lon) coordinates must have numeric dtypes and be of equal length.\n",
    "\n",
    "    \"\"\"\n",
    "    \n",
    "    lon1, lat1, lon2, lat2 = map(np.radians, [lon1, lat1, lon2, lat2])\n",
    "\n",
    "    dlon = lon2 - lon1\n",
    "    dlat = lat2 - lat1\n",
    "\n",
    "    a = np.sin(dlat/2.0)**2 + np.cos(lat1) * np.cos(lat2) * np.sin(dlon/2.0)**2\n",
    "\n",
    "    c = 2 * np.arcsin(np.sqrt(a))\n",
    "    km = 6367 * c\n",
    "    return km"
   ]
  },
  {
   "cell_type": "code",
   "execution_count": 4,
   "id": "951f7228",
   "metadata": {},
   "outputs": [],
   "source": [
    "#calculation source based on https://www.verywellfit.com/how-many-more-calories-do-you-burn-walking-uphill-3975557\n",
    "def get_calories(distance, slope_angle):\n",
    "    \n",
    "    #1609 meters per mile, 80 calories per mile\n",
    "    calories_raw = (distance/1609) * 80\n",
    "\n",
    "    if slope_angle < -1: #fewer calories burned downhill\n",
    "        calories_adj = calories_raw * .934\n",
    "    elif slope_angle > 1: #more calories burned uphill\n",
    "        calories_adj = calories_raw + slope_angle * (distance/1609) * 10\n",
    "    else:\n",
    "        calories_adj = calories_raw\n",
    "    \n",
    "    return calories_adj"
   ]
  },
  {
   "cell_type": "code",
   "execution_count": 5,
   "id": "e597affb",
   "metadata": {},
   "outputs": [],
   "source": [
    "#calculation source based on https://www.verywellfit.com/how-many-more-calories-do-you-burn-walking-uphill-3975557\n",
    "def get_effort(slope_angle):\n",
    "    \n",
    "    if slope_angle < 1: #fewer calories burned downhill\n",
    "        effort = .934\n",
    "    elif slope_angle > 1: #more calories burned uphill\n",
    "        effort = 1 + slope_angle * (1/8)\n",
    "    else:\n",
    "        effort = 1\n",
    "    \n",
    "    return effort"
   ]
  },
  {
   "cell_type": "markdown",
   "id": "86f28661",
   "metadata": {},
   "source": [
    "<h1>Read and Parse GPX File</h1>"
   ]
  },
  {
   "cell_type": "code",
   "execution_count": 6,
   "id": "43f0b501",
   "metadata": {},
   "outputs": [
    {
     "ename": "NameError",
     "evalue": "name 'df_walk' is not defined",
     "output_type": "error",
     "traceback": [
      "\u001b[0;31m---------------------------------------------------------------------------\u001b[0m",
      "\u001b[0;31mNameError\u001b[0m                                 Traceback (most recent call last)",
      "\u001b[0;32m/tmp/ipykernel_2658/1167113935.py\u001b[0m in \u001b[0;36m<module>\u001b[0;34m\u001b[0m\n\u001b[1;32m      1\u001b[0m \u001b[0;31m#calculate distance and change in elevation, units in meters\u001b[0m\u001b[0;34m\u001b[0m\u001b[0;34m\u001b[0m\u001b[0m\n\u001b[1;32m      2\u001b[0m \u001b[0mdf_walk\u001b[0m\u001b[0;34m[\u001b[0m\u001b[0;34m'd_distance'\u001b[0m\u001b[0;34m]\u001b[0m \u001b[0;34m=\u001b[0m\u001b[0;31m \u001b[0m\u001b[0;31m\\\u001b[0m\u001b[0;34m\u001b[0m\u001b[0;34m\u001b[0m\u001b[0m\n\u001b[0;32m----> 3\u001b[0;31m     1000* haversine(df_walk.lat.shift(), df_walk.long.shift(),\n\u001b[0m\u001b[1;32m      4\u001b[0m                  df_walk.loc[1:, 'lat'], df_walk.loc[1:, 'long'])\n\u001b[1;32m      5\u001b[0m \u001b[0mdf_walk\u001b[0m\u001b[0;34m[\u001b[0m\u001b[0;34m\"d_height\"\u001b[0m\u001b[0;34m]\u001b[0m\u001b[0;34m=\u001b[0m \u001b[0mdf_walk\u001b[0m\u001b[0;34m.\u001b[0m\u001b[0melev\u001b[0m\u001b[0;34m.\u001b[0m\u001b[0mdiff\u001b[0m\u001b[0;34m(\u001b[0m\u001b[0;34m)\u001b[0m\u001b[0;34m\u001b[0m\u001b[0;34m\u001b[0m\u001b[0m\n",
      "\u001b[0;31mNameError\u001b[0m: name 'df_walk' is not defined"
     ]
    }
   ],
   "source": [
    "#calculate distance and change in elevation, units in meters\n",
    "df_walk['d_distance'] = \\\n",
    "    1000* haversine(df_walk.lat.shift(), df_walk.long.shift(),\n",
    "                 df_walk.loc[1:, 'lat'], df_walk.loc[1:, 'long'])\n",
    "df_walk[\"d_height\"]= df_walk.elev.diff()\n",
    "df_walk[\"slope\"]=df_walk[\"d_height\"]/df_walk[\"d_distance\"]\n",
    "df_walk[\"slope_angle\"]=np.rad2deg(np.arctan2(df_walk[\"d_height\"],df_walk[\"d_distance\"]))\n",
    "df_walk = df_walk.fillna(0)\n",
    "df_walk"
   ]
  },
  {
   "cell_type": "code",
   "execution_count": 7,
   "id": "50bd2b84",
   "metadata": {},
   "outputs": [
    {
     "ename": "NameError",
     "evalue": "name 'df_walk' is not defined",
     "output_type": "error",
     "traceback": [
      "\u001b[0;31m---------------------------------------------------------------------------\u001b[0m",
      "\u001b[0;31mNameError\u001b[0m                                 Traceback (most recent call last)",
      "\u001b[0;32m/tmp/ipykernel_2658/1037115036.py\u001b[0m in \u001b[0;36m<module>\u001b[0;34m\u001b[0m\n\u001b[1;32m      1\u001b[0m \u001b[0;31m# count calories and get cumulative sums\u001b[0m\u001b[0;34m\u001b[0m\u001b[0;34m\u001b[0m\u001b[0m\n\u001b[0;32m----> 2\u001b[0;31m \u001b[0mdf_walk\u001b[0m\u001b[0;34m[\u001b[0m\u001b[0;34m'd_calories'\u001b[0m\u001b[0;34m]\u001b[0m \u001b[0;34m=\u001b[0m \u001b[0mdf_walk\u001b[0m\u001b[0;34m.\u001b[0m\u001b[0mapply\u001b[0m\u001b[0;34m(\u001b[0m\u001b[0;32mlambda\u001b[0m \u001b[0mx\u001b[0m\u001b[0;34m:\u001b[0m \u001b[0mget_calories\u001b[0m\u001b[0;34m(\u001b[0m\u001b[0mx\u001b[0m\u001b[0;34m[\u001b[0m\u001b[0;34m'd_distance'\u001b[0m\u001b[0;34m]\u001b[0m\u001b[0;34m,\u001b[0m \u001b[0mx\u001b[0m\u001b[0;34m[\u001b[0m\u001b[0;34m'slope_angle'\u001b[0m\u001b[0;34m]\u001b[0m\u001b[0;34m)\u001b[0m\u001b[0;34m,\u001b[0m \u001b[0maxis\u001b[0m\u001b[0;34m=\u001b[0m\u001b[0;36m1\u001b[0m\u001b[0;34m)\u001b[0m\u001b[0;34m\u001b[0m\u001b[0;34m\u001b[0m\u001b[0m\n\u001b[0m\u001b[1;32m      3\u001b[0m \u001b[0mdf_walk\u001b[0m\u001b[0;34m[\u001b[0m\u001b[0;34m'calories_sum'\u001b[0m\u001b[0;34m]\u001b[0m \u001b[0;34m=\u001b[0m \u001b[0mdf_walk\u001b[0m\u001b[0;34m[\u001b[0m\u001b[0;34m'd_calories'\u001b[0m\u001b[0;34m]\u001b[0m\u001b[0;34m.\u001b[0m\u001b[0mcumsum\u001b[0m\u001b[0;34m(\u001b[0m\u001b[0;34m)\u001b[0m\u001b[0;34m\u001b[0m\u001b[0;34m\u001b[0m\u001b[0m\n\u001b[1;32m      4\u001b[0m \u001b[0mdf_walk\u001b[0m\u001b[0;34m[\u001b[0m\u001b[0;34m'distance_sum'\u001b[0m\u001b[0;34m]\u001b[0m \u001b[0;34m=\u001b[0m \u001b[0mdf_walk\u001b[0m\u001b[0;34m[\u001b[0m\u001b[0;34m'd_distance'\u001b[0m\u001b[0;34m]\u001b[0m\u001b[0;34m.\u001b[0m\u001b[0mcumsum\u001b[0m\u001b[0;34m(\u001b[0m\u001b[0;34m)\u001b[0m\u001b[0;34m\u001b[0m\u001b[0;34m\u001b[0m\u001b[0m\n\u001b[1;32m      5\u001b[0m \u001b[0mdf_walk\u001b[0m\u001b[0;34m\u001b[0m\u001b[0;34m\u001b[0m\u001b[0m\n",
      "\u001b[0;31mNameError\u001b[0m: name 'df_walk' is not defined"
     ]
    }
   ],
   "source": [
    "# count calories and get cumulative sums\n",
    "df_walk['d_calories'] = df_walk.apply(lambda x: get_calories(x['d_distance'], x['slope_angle']), axis=1)\n",
    "df_walk['calories_sum'] = df_walk['d_calories'].cumsum()\n",
    "df_walk['distance_sum'] = df_walk['d_distance'].cumsum()\n",
    "df_walk"
   ]
  },
  {
   "cell_type": "markdown",
   "id": "fccbb418",
   "metadata": {},
   "source": [
    "<h1>Export It</h1>"
   ]
  },
  {
   "cell_type": "code",
   "execution_count": 26,
   "id": "3055d2fa",
   "metadata": {},
   "outputs": [],
   "source": [
    "df_walk.to_csv(path_output)"
   ]
  }
 ],
 "metadata": {
  "kernelspec": {
   "display_name": "Python 3 (ipykernel)",
   "language": "python",
   "name": "python3"
  },
  "language_info": {
   "codemirror_mode": {
    "name": "ipython",
    "version": 3
   },
   "file_extension": ".py",
   "mimetype": "text/x-python",
   "name": "python",
   "nbconvert_exporter": "python",
   "pygments_lexer": "ipython3",
   "version": "3.10.6"
  }
 },
 "nbformat": 4,
 "nbformat_minor": 5
}
