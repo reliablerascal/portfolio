{
 "cells": [
  {
   "cell_type": "markdown",
   "id": "c4cc773e",
   "metadata": {},
   "source": [
    "# TSA Complaints Data Quality Check\n",
    "RR 9/23/23<br>\n",
    "The goal is to confirm that subcategory totals reconcile with category totals.<br>\n",
    "\n",
    "analysis notes and assumptions<br>\n",
    "<ul>\n",
    "<li>I'm looking at only the master file, master-month.csv\n",
    "<li><em>Subcategory totals</em> are calculated for each possible combination of category and subcategory, but do not yet consolidate variants of clipped subcategory descriptions.\n",
    "    <li><em>Category totals</em> for each airport/month are assumed to be rows with null subcategories\n",
    "</ul>"
   ]
  },
  {
   "cell_type": "markdown",
   "id": "a064c538",
   "metadata": {},
   "source": [
    "## 1. import and review data"
   ]
  },
  {
   "cell_type": "code",
   "execution_count": 1,
   "id": "99b03e38",
   "metadata": {},
   "outputs": [],
   "source": [
    "import pandas as pd"
   ]
  },
  {
   "cell_type": "code",
   "execution_count": 2,
   "id": "8c44de7f",
   "metadata": {},
   "outputs": [],
   "source": [
    "df = pd.read_csv(\"../output/master-month.csv\")"
   ]
  },
  {
   "cell_type": "code",
   "execution_count": 3,
   "id": "3022d7e4",
   "metadata": {},
   "outputs": [
    {
     "name": "stdout",
     "output_type": "stream",
     "text": [
      "<class 'pandas.core.frame.DataFrame'>\n",
      "RangeIndex: 724710 entries, 0 to 724709\n",
      "Data columns (total 6 columns):\n",
      " #   Column           Non-Null Count   Dtype \n",
      "---  ------           --------------   ----- \n",
      " 0   PDF Report Date  724710 non-null  object\n",
      " 1   Airport          708131 non-null  object\n",
      " 2   Category         686163 non-null  object\n",
      " 3   Subcategory      463751 non-null  object\n",
      " 4   Date             724710 non-null  object\n",
      " 5   Count            724710 non-null  int64 \n",
      "dtypes: int64(1), object(5)\n",
      "memory usage: 33.2+ MB\n"
     ]
    }
   ],
   "source": [
    "df.info()"
   ]
  },
  {
   "cell_type": "markdown",
   "id": "26bd4d27",
   "metadata": {},
   "source": [
    "## 2. split dataframe into three dataframes: 1) month counts, 2) category totals, and 3) overall totals"
   ]
  },
  {
   "cell_type": "code",
   "execution_count": 4,
   "id": "b5203975",
   "metadata": {},
   "outputs": [
    {
     "data": {
      "text/plain": [
       "724710"
      ]
     },
     "execution_count": 4,
     "metadata": {},
     "output_type": "execute_result"
    }
   ],
   "source": [
    "len(df)"
   ]
  },
  {
   "cell_type": "code",
   "execution_count": 5,
   "id": "afd7e85f",
   "metadata": {},
   "outputs": [
    {
     "data": {
      "text/plain": [
       "463751"
      ]
     },
     "execution_count": 5,
     "metadata": {},
     "output_type": "execute_result"
    }
   ],
   "source": [
    "# filter to include all rows with a subcategory\n",
    "df_month_counts = df[df['Subcategory'].notna()]\n",
    "len(df_month_counts)"
   ]
  },
  {
   "cell_type": "code",
   "execution_count": 6,
   "id": "22b7d496",
   "metadata": {},
   "outputs": [
    {
     "data": {
      "text/plain": [
       "222412"
      ]
     },
     "execution_count": 6,
     "metadata": {},
     "output_type": "execute_result"
    }
   ],
   "source": [
    "# filter to include category totals, i.e. subcategory is blank\n",
    "df_cat_totals = df[df['Category'].notna() & df['Subcategory'].isna()]\n",
    "len(df_cat_totals)"
   ]
  },
  {
   "cell_type": "code",
   "execution_count": 7,
   "id": "28b662f3",
   "metadata": {},
   "outputs": [
    {
     "data": {
      "text/plain": [
       "38547"
      ]
     },
     "execution_count": 7,
     "metadata": {},
     "output_type": "execute_result"
    }
   ],
   "source": [
    "# filter to include overall totals, i.e. category and subcategory are blank\n",
    "df_totals = df[df['Category'].isna() & df['Subcategory'].isna()]\n",
    "len(df_totals)"
   ]
  },
  {
   "cell_type": "code",
   "execution_count": 8,
   "id": "2dd45c75",
   "metadata": {},
   "outputs": [
    {
     "data": {
      "text/plain": [
       "724710"
      ]
     },
     "execution_count": 8,
     "metadata": {},
     "output_type": "execute_result"
    }
   ],
   "source": [
    "#confirm no records are lost or duplicated\n",
    "len(df_month_counts) + len(df_cat_totals) + len(df_totals)"
   ]
  },
  {
   "cell_type": "markdown",
   "id": "b802b87f",
   "metadata": {},
   "source": [
    "## 3a. sum incidents by subcategory"
   ]
  },
  {
   "cell_type": "code",
   "execution_count": 9,
   "id": "f2a7b40a",
   "metadata": {},
   "outputs": [
    {
     "data": {
      "text/html": [
       "<div>\n",
       "<style scoped>\n",
       "    .dataframe tbody tr th:only-of-type {\n",
       "        vertical-align: middle;\n",
       "    }\n",
       "\n",
       "    .dataframe tbody tr th {\n",
       "        vertical-align: top;\n",
       "    }\n",
       "\n",
       "    .dataframe thead th {\n",
       "        text-align: right;\n",
       "    }\n",
       "</style>\n",
       "<table border=\"1\" class=\"dataframe\">\n",
       "  <thead>\n",
       "    <tr style=\"text-align: right;\">\n",
       "      <th></th>\n",
       "      <th>Category</th>\n",
       "      <th>Subcategory</th>\n",
       "      <th>Count</th>\n",
       "    </tr>\n",
       "  </thead>\n",
       "  <tbody>\n",
       "    <tr>\n",
       "      <th>0</th>\n",
       "      <td>Additional Information Required/Insufficient Inf</td>\n",
       "      <td>Additional Information Required/Insufficien</td>\n",
       "      <td>504</td>\n",
       "    </tr>\n",
       "    <tr>\n",
       "      <th>1</th>\n",
       "      <td>Additional Information Required/Insufficient I...</td>\n",
       "      <td>EMAIL ONLY</td>\n",
       "      <td>50</td>\n",
       "    </tr>\n",
       "    <tr>\n",
       "      <th>2</th>\n",
       "      <td>Additional Information Required/Insufficient I...</td>\n",
       "      <td>Additional Information Required/Insufficient I...</td>\n",
       "      <td>29</td>\n",
       "    </tr>\n",
       "    <tr>\n",
       "      <th>3</th>\n",
       "      <td>Additional Information Required/Insufficient I...</td>\n",
       "      <td>Additional Information Required/Insufficient I...</td>\n",
       "      <td>10</td>\n",
       "    </tr>\n",
       "    <tr>\n",
       "      <th>4</th>\n",
       "      <td>Additional Information Required/Insufficient I...</td>\n",
       "      <td>Additional Information Required/Insufficient I...</td>\n",
       "      <td>463</td>\n",
       "    </tr>\n",
       "  </tbody>\n",
       "</table>\n",
       "</div>"
      ],
      "text/plain": [
       "                                            Category  \\\n",
       "0   Additional Information Required/Insufficient Inf   \n",
       "1  Additional Information Required/Insufficient I...   \n",
       "2  Additional Information Required/Insufficient I...   \n",
       "3  Additional Information Required/Insufficient I...   \n",
       "4  Additional Information Required/Insufficient I...   \n",
       "\n",
       "                                         Subcategory  Count  \n",
       "0        Additional Information Required/Insufficien    504  \n",
       "1                                         EMAIL ONLY     50  \n",
       "2  Additional Information Required/Insufficient I...     29  \n",
       "3  Additional Information Required/Insufficient I...     10  \n",
       "4  Additional Information Required/Insufficient I...    463  "
      ]
     },
     "execution_count": 9,
     "metadata": {},
     "output_type": "execute_result"
    }
   ],
   "source": [
    "#sum by subcategory. this will roll up all time periods and airports\n",
    "#drop rows with null subcategories, which are really totals\n",
    "df_summary_subcat = df_month_counts.groupby(['Category','Subcategory'])['Count'].sum().reset_index()\n",
    "df_summary_subcat.head()"
   ]
  },
  {
   "cell_type": "code",
   "execution_count": 10,
   "id": "178e295b",
   "metadata": {},
   "outputs": [
    {
     "data": {
      "text/plain": [
       "468"
      ]
     },
     "execution_count": 10,
     "metadata": {},
     "output_type": "execute_result"
    }
   ],
   "source": [
    "len(df_summary_subcat)"
   ]
  },
  {
   "cell_type": "markdown",
   "id": "6a2653f7",
   "metadata": {},
   "source": [
    "## 3b. sum incidents by category"
   ]
  },
  {
   "cell_type": "code",
   "execution_count": 12,
   "id": "8ebbddb3",
   "metadata": {},
   "outputs": [
    {
     "data": {
      "text/html": [
       "<div>\n",
       "<style scoped>\n",
       "    .dataframe tbody tr th:only-of-type {\n",
       "        vertical-align: middle;\n",
       "    }\n",
       "\n",
       "    .dataframe tbody tr th {\n",
       "        vertical-align: top;\n",
       "    }\n",
       "\n",
       "    .dataframe thead th {\n",
       "        text-align: right;\n",
       "    }\n",
       "</style>\n",
       "<table border=\"1\" class=\"dataframe\">\n",
       "  <thead>\n",
       "    <tr style=\"text-align: right;\">\n",
       "      <th></th>\n",
       "      <th>Category</th>\n",
       "      <th>Count</th>\n",
       "    </tr>\n",
       "  </thead>\n",
       "  <tbody>\n",
       "    <tr>\n",
       "      <th>0</th>\n",
       "      <td>Additional Information Required/Insufficient Inf</td>\n",
       "      <td>504</td>\n",
       "    </tr>\n",
       "    <tr>\n",
       "      <th>1</th>\n",
       "      <td>Additional Information Required/Insufficient I...</td>\n",
       "      <td>50</td>\n",
       "    </tr>\n",
       "    <tr>\n",
       "      <th>2</th>\n",
       "      <td>Additional Information Required/Insufficient I...</td>\n",
       "      <td>600</td>\n",
       "    </tr>\n",
       "    <tr>\n",
       "      <th>3</th>\n",
       "      <td>Advanced Imaging Technology (AIT)</td>\n",
       "      <td>398</td>\n",
       "    </tr>\n",
       "    <tr>\n",
       "      <th>4</th>\n",
       "      <td>Airline</td>\n",
       "      <td>11230</td>\n",
       "    </tr>\n",
       "  </tbody>\n",
       "</table>\n",
       "</div>"
      ],
      "text/plain": [
       "                                            Category  Count\n",
       "0   Additional Information Required/Insufficient Inf    504\n",
       "1  Additional Information Required/Insufficient I...     50\n",
       "2  Additional Information Required/Insufficient I...    600\n",
       "3                  Advanced Imaging Technology (AIT)    398\n",
       "4                                            Airline  11230"
      ]
     },
     "execution_count": 12,
     "metadata": {},
     "output_type": "execute_result"
    }
   ],
   "source": [
    "#aggregate by category\n",
    "df_summary_cat = df_cat_totals.groupby(['Category'])['Count'].sum().reset_index()\n",
    "df_summary_cat.head()"
   ]
  },
  {
   "cell_type": "code",
   "execution_count": 13,
   "id": "7c48bf23",
   "metadata": {},
   "outputs": [
    {
     "data": {
      "text/plain": [
       "49"
      ]
     },
     "execution_count": 13,
     "metadata": {},
     "output_type": "execute_result"
    }
   ],
   "source": [
    "len(df_summary_cat)"
   ]
  },
  {
   "cell_type": "markdown",
   "id": "e8f9c0c8",
   "metadata": {},
   "source": [
    "## 3c. sum incidents overall"
   ]
  },
  {
   "cell_type": "code",
   "execution_count": 14,
   "id": "d19e52a6",
   "metadata": {},
   "outputs": [
    {
     "data": {
      "text/plain": [
       "909409"
      ]
     },
     "execution_count": 14,
     "metadata": {},
     "output_type": "execute_result"
    }
   ],
   "source": [
    "# filter to include only rows where category and subcategory are blank\n",
    "df_totals['Count'].sum()"
   ]
  },
  {
   "cell_type": "markdown",
   "id": "9708c6ce",
   "metadata": {},
   "source": [
    "## 4. compare category totals to subcategory totals"
   ]
  },
  {
   "cell_type": "code",
   "execution_count": 15,
   "id": "f41d91f9",
   "metadata": {},
   "outputs": [
    {
     "data": {
      "text/html": [
       "<div>\n",
       "<style scoped>\n",
       "    .dataframe tbody tr th:only-of-type {\n",
       "        vertical-align: middle;\n",
       "    }\n",
       "\n",
       "    .dataframe tbody tr th {\n",
       "        vertical-align: top;\n",
       "    }\n",
       "\n",
       "    .dataframe thead th {\n",
       "        text-align: right;\n",
       "    }\n",
       "</style>\n",
       "<table border=\"1\" class=\"dataframe\">\n",
       "  <thead>\n",
       "    <tr style=\"text-align: right;\">\n",
       "      <th></th>\n",
       "      <th>Category</th>\n",
       "      <th>Count</th>\n",
       "    </tr>\n",
       "  </thead>\n",
       "  <tbody>\n",
       "    <tr>\n",
       "      <th>0</th>\n",
       "      <td>Additional Information Required/Insufficient Inf</td>\n",
       "      <td>504</td>\n",
       "    </tr>\n",
       "    <tr>\n",
       "      <th>1</th>\n",
       "      <td>Additional Information Required/Insufficient I...</td>\n",
       "      <td>50</td>\n",
       "    </tr>\n",
       "    <tr>\n",
       "      <th>2</th>\n",
       "      <td>Additional Information Required/Insufficient I...</td>\n",
       "      <td>600</td>\n",
       "    </tr>\n",
       "    <tr>\n",
       "      <th>3</th>\n",
       "      <td>Advanced Imaging Technology (AIT)</td>\n",
       "      <td>398</td>\n",
       "    </tr>\n",
       "    <tr>\n",
       "      <th>4</th>\n",
       "      <td>Airline</td>\n",
       "      <td>11230</td>\n",
       "    </tr>\n",
       "  </tbody>\n",
       "</table>\n",
       "</div>"
      ],
      "text/plain": [
       "                                            Category  Count\n",
       "0   Additional Information Required/Insufficient Inf    504\n",
       "1  Additional Information Required/Insufficient I...     50\n",
       "2  Additional Information Required/Insufficient I...    600\n",
       "3                  Advanced Imaging Technology (AIT)    398\n",
       "4                                            Airline  11230"
      ]
     },
     "execution_count": 15,
     "metadata": {},
     "output_type": "execute_result"
    }
   ],
   "source": [
    "# aggregate subcategories into categories, so they can be compared with category aggregate\n",
    "df_summary_subcat_aggr = df_summary_subcat.groupby(['Category'])['Count'].sum().reset_index()\n",
    "df_summary_subcat_aggr.head()"
   ]
  },
  {
   "cell_type": "code",
   "execution_count": 16,
   "id": "540b7881",
   "metadata": {},
   "outputs": [
    {
     "data": {
      "text/plain": [
       "909409"
      ]
     },
     "execution_count": 16,
     "metadata": {},
     "output_type": "execute_result"
    }
   ],
   "source": [
    "df_summary_cat['Count'].sum()"
   ]
  },
  {
   "cell_type": "code",
   "execution_count": 17,
   "id": "27058602",
   "metadata": {},
   "outputs": [
    {
     "data": {
      "text/plain": [
       "909409"
      ]
     },
     "execution_count": 17,
     "metadata": {},
     "output_type": "execute_result"
    }
   ],
   "source": [
    "df_summary_subcat['Count'].sum()"
   ]
  },
  {
   "cell_type": "code",
   "execution_count": 18,
   "id": "f96598a3",
   "metadata": {},
   "outputs": [
    {
     "data": {
      "text/plain": [
       "True"
      ]
     },
     "execution_count": 18,
     "metadata": {},
     "output_type": "execute_result"
    }
   ],
   "source": [
    "#test whether the two summaries are identical\n",
    "df_summary_subcat_aggr.equals(df_summary_cat)"
   ]
  },
  {
   "cell_type": "markdown",
   "id": "a449e5f3",
   "metadata": {},
   "source": [
    "## 5. export Results for further review"
   ]
  },
  {
   "cell_type": "code",
   "execution_count": 19,
   "id": "e4f1a763",
   "metadata": {},
   "outputs": [],
   "source": [
    "df_summary_subcat.to_csv(\"../qa-checks/tsa-summary-subcat.csv\")\n",
    "df_summary_cat.to_csv(\"../qa-checks/tsa_summary-cat.csv\")"
   ]
  },
  {
   "cell_type": "code",
   "execution_count": null,
   "id": "5858d967",
   "metadata": {},
   "outputs": [],
   "source": []
  }
 ],
 "metadata": {
  "kernelspec": {
   "display_name": "Python 3 (ipykernel)",
   "language": "python",
   "name": "python3"
  },
  "language_info": {
   "codemirror_mode": {
    "name": "ipython",
    "version": 3
   },
   "file_extension": ".py",
   "mimetype": "text/x-python",
   "name": "python",
   "nbconvert_exporter": "python",
   "pygments_lexer": "ipython3",
   "version": "3.10.12"
  }
 },
 "nbformat": 4,
 "nbformat_minor": 5
}
