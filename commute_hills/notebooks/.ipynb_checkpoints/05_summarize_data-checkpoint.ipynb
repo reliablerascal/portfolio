{
 "cells": [
  {
   "cell_type": "code",
   "execution_count": 36,
   "id": "4f792071",
   "metadata": {},
   "outputs": [],
   "source": [
    "# import altair with an abbreviated alias\n",
    "import altair as alt\n",
    "import csv\n",
    "import pandas as pd"
   ]
  },
  {
   "cell_type": "markdown",
   "id": "229c5c54",
   "metadata": {},
   "source": [
    "<h1>Create Summary Data</h1>"
   ]
  },
  {
   "cell_type": "code",
   "execution_count": 37,
   "id": "06441b13",
   "metadata": {},
   "outputs": [],
   "source": [
    "#read data\n",
    "df_walk_riverside = pd.read_csv(\"../results/commute_riverside_segmented.csv\", index_col=[0])\n",
    "df_walk_broadway = pd.read_csv(\"../results/commute_broadway_segmented.csv\", index_col=[0])"
   ]
  },
  {
   "cell_type": "code",
   "execution_count": 38,
   "id": "32962ef7",
   "metadata": {},
   "outputs": [],
   "source": [
    "#calculate sum for each segment\n",
    "df_summary_broadway = df_walk_broadway.groupby([\"seg_id\",\"segment\"]).agg({'d_distance': ['sum'],'d_calories': ['sum']}).reset_index()\n",
    "df_summary_riverside = df_walk_riverside.groupby([\"seg_id\",\"segment\"]).agg({'d_distance': ['sum'],'d_calories': ['sum']}).reset_index()"
   ]
  },
  {
   "cell_type": "code",
   "execution_count": 39,
   "id": "20c1e58e",
   "metadata": {},
   "outputs": [],
   "source": [
    "#clean up dataframes\n",
    "df_summary_broadway =  (\n",
    "    df_summary_broadway\n",
    "    .droplevel(1, axis=1)\n",
    "    .rename(columns={'d_distance': 'distance_broadway','d_calories': 'calories_broadway'})\n",
    ")\n",
    "df_summary_riverside =  (\n",
    "    df_summary_riverside\n",
    "    .droplevel(1, axis=1)\n",
    "    .rename(columns={'d_distance': 'distance_riverside','d_calories': 'calories_riverside'})\n",
    ")"
   ]
  },
  {
   "cell_type": "code",
   "execution_count": 40,
   "id": "93b77c50",
   "metadata": {},
   "outputs": [
    {
     "data": {
      "text/html": [
       "<div>\n",
       "<style scoped>\n",
       "    .dataframe tbody tr th:only-of-type {\n",
       "        vertical-align: middle;\n",
       "    }\n",
       "\n",
       "    .dataframe tbody tr th {\n",
       "        vertical-align: top;\n",
       "    }\n",
       "\n",
       "    .dataframe thead th {\n",
       "        text-align: right;\n",
       "    }\n",
       "</style>\n",
       "<table border=\"1\" class=\"dataframe\">\n",
       "  <thead>\n",
       "    <tr style=\"text-align: right;\">\n",
       "      <th></th>\n",
       "      <th>seg_id</th>\n",
       "      <th>segment</th>\n",
       "      <th>distance_broadway</th>\n",
       "      <th>calories_broadway</th>\n",
       "      <th>distance_riverside</th>\n",
       "      <th>calories_riverside</th>\n",
       "    </tr>\n",
       "  </thead>\n",
       "  <tbody>\n",
       "    <tr>\n",
       "      <th>0</th>\n",
       "      <td>1</td>\n",
       "      <td>157_139</td>\n",
       "      <td>1591.477947</td>\n",
       "      <td>84.682289</td>\n",
       "      <td>1544.760833</td>\n",
       "      <td>80.070431</td>\n",
       "    </tr>\n",
       "    <tr>\n",
       "      <th>1</th>\n",
       "      <td>2</td>\n",
       "      <td>139_125</td>\n",
       "      <td>856.281423</td>\n",
       "      <td>40.726912</td>\n",
       "      <td>914.906123</td>\n",
       "      <td>49.499056</td>\n",
       "    </tr>\n",
       "    <tr>\n",
       "      <th>2</th>\n",
       "      <td>3</td>\n",
       "      <td>125_116</td>\n",
       "      <td>1041.999106</td>\n",
       "      <td>63.804104</td>\n",
       "      <td>1168.525008</td>\n",
       "      <td>64.862099</td>\n",
       "    </tr>\n",
       "  </tbody>\n",
       "</table>\n",
       "</div>"
      ],
      "text/plain": [
       "   seg_id  segment  distance_broadway  calories_broadway  distance_riverside  \\\n",
       "0       1  157_139        1591.477947          84.682289         1544.760833   \n",
       "1       2  139_125         856.281423          40.726912          914.906123   \n",
       "2       3  125_116        1041.999106          63.804104         1168.525008   \n",
       "\n",
       "   calories_riverside  \n",
       "0           80.070431  \n",
       "1           49.499056  \n",
       "2           64.862099  "
      ]
     },
     "execution_count": 40,
     "metadata": {},
     "output_type": "execute_result"
    }
   ],
   "source": [
    "#merge\n",
    "df_summary = df_summary_broadway.merge(df_summary_riverside, on = ['seg_id','segment'])\n",
    "df_summary"
   ]
  },
  {
   "cell_type": "code",
   "execution_count": 41,
   "id": "d7d61d07",
   "metadata": {},
   "outputs": [
    {
     "data": {
      "text/html": [
       "<div>\n",
       "<style scoped>\n",
       "    .dataframe tbody tr th:only-of-type {\n",
       "        vertical-align: middle;\n",
       "    }\n",
       "\n",
       "    .dataframe tbody tr th {\n",
       "        vertical-align: top;\n",
       "    }\n",
       "\n",
       "    .dataframe thead th {\n",
       "        text-align: right;\n",
       "    }\n",
       "</style>\n",
       "<table border=\"1\" class=\"dataframe\">\n",
       "  <thead>\n",
       "    <tr style=\"text-align: right;\">\n",
       "      <th></th>\n",
       "      <th>seg_id</th>\n",
       "      <th>segment</th>\n",
       "      <th>distance_broadway</th>\n",
       "      <th>calories_broadway</th>\n",
       "      <th>distance_riverside</th>\n",
       "      <th>calories_riverside</th>\n",
       "    </tr>\n",
       "  </thead>\n",
       "  <tbody>\n",
       "    <tr>\n",
       "      <th>0</th>\n",
       "      <td>1</td>\n",
       "      <td>157_139</td>\n",
       "      <td>1591.477947</td>\n",
       "      <td>84.682289</td>\n",
       "      <td>1544.760833</td>\n",
       "      <td>80.070431</td>\n",
       "    </tr>\n",
       "    <tr>\n",
       "      <th>1</th>\n",
       "      <td>2</td>\n",
       "      <td>139_125</td>\n",
       "      <td>856.281423</td>\n",
       "      <td>40.726912</td>\n",
       "      <td>914.906123</td>\n",
       "      <td>49.499056</td>\n",
       "    </tr>\n",
       "    <tr>\n",
       "      <th>2</th>\n",
       "      <td>3</td>\n",
       "      <td>125_116</td>\n",
       "      <td>1041.999106</td>\n",
       "      <td>63.804104</td>\n",
       "      <td>1168.525008</td>\n",
       "      <td>64.862099</td>\n",
       "    </tr>\n",
       "    <tr>\n",
       "      <th>3</th>\n",
       "      <td>total</td>\n",
       "      <td>total</td>\n",
       "      <td>3489.758476</td>\n",
       "      <td>189.213306</td>\n",
       "      <td>3628.191963</td>\n",
       "      <td>194.431585</td>\n",
       "    </tr>\n",
       "  </tbody>\n",
       "</table>\n",
       "</div>"
      ],
      "text/plain": [
       "  seg_id  segment  distance_broadway  calories_broadway  distance_riverside  \\\n",
       "0      1  157_139        1591.477947          84.682289         1544.760833   \n",
       "1      2  139_125         856.281423          40.726912          914.906123   \n",
       "2      3  125_116        1041.999106          63.804104         1168.525008   \n",
       "3  total    total        3489.758476         189.213306         3628.191963   \n",
       "\n",
       "   calories_riverside  \n",
       "0           80.070431  \n",
       "1           49.499056  \n",
       "2           64.862099  \n",
       "3          194.431585  "
      ]
     },
     "execution_count": 41,
     "metadata": {},
     "output_type": "execute_result"
    }
   ],
   "source": [
    "#calculate total for entire walk\n",
    "df_totals = pd.DataFrame (\n",
    "{\n",
    "    'seg_id': \"total\",\n",
    "    'segment':'total',\n",
    "    'distance_broadway':[df_summary['distance_broadway'].sum()],\n",
    "    'calories_broadway':[df_summary['calories_broadway'].sum()],\n",
    "    'distance_riverside':[df_summary['distance_riverside'].sum()],\n",
    "    'calories_riverside':[df_summary['calories_riverside'].sum()]\n",
    "    }\n",
    ")\n",
    "\n",
    "#then append this\n",
    "df_summary = pd.concat([df_summary,df_totals]).reset_index()\n",
    "df_summary = df_summary.drop(columns =['index'])\n",
    "df_summary"
   ]
  },
  {
   "cell_type": "code",
   "execution_count": 42,
   "id": "62b0c51a",
   "metadata": {},
   "outputs": [],
   "source": [
    "#calculate average effort per segment\n",
    "df_summary[\"effort_broadway\"]= df_summary[\"calories_broadway\"]/df_summary[\"distance_broadway\"]\n",
    "df_summary[\"effort_riverside\"]= df_summary[\"calories_riverside\"]/df_summary[\"distance_riverside\"]"
   ]
  },
  {
   "cell_type": "code",
   "execution_count": 43,
   "id": "49bd758c",
   "metadata": {},
   "outputs": [
    {
     "data": {
      "text/html": [
       "<div>\n",
       "<style scoped>\n",
       "    .dataframe tbody tr th:only-of-type {\n",
       "        vertical-align: middle;\n",
       "    }\n",
       "\n",
       "    .dataframe tbody tr th {\n",
       "        vertical-align: top;\n",
       "    }\n",
       "\n",
       "    .dataframe thead th {\n",
       "        text-align: right;\n",
       "    }\n",
       "</style>\n",
       "<table border=\"1\" class=\"dataframe\">\n",
       "  <thead>\n",
       "    <tr style=\"text-align: right;\">\n",
       "      <th></th>\n",
       "      <th>seg_id</th>\n",
       "      <th>segment</th>\n",
       "      <th>distance_broadway</th>\n",
       "      <th>calories_broadway</th>\n",
       "      <th>distance_riverside</th>\n",
       "      <th>calories_riverside</th>\n",
       "      <th>effort_broadway</th>\n",
       "      <th>effort_riverside</th>\n",
       "    </tr>\n",
       "  </thead>\n",
       "  <tbody>\n",
       "    <tr>\n",
       "      <th>0</th>\n",
       "      <td>1</td>\n",
       "      <td>157_139</td>\n",
       "      <td>1591</td>\n",
       "      <td>85</td>\n",
       "      <td>1545</td>\n",
       "      <td>80</td>\n",
       "      <td>0.053210</td>\n",
       "      <td>0.051834</td>\n",
       "    </tr>\n",
       "    <tr>\n",
       "      <th>1</th>\n",
       "      <td>2</td>\n",
       "      <td>139_125</td>\n",
       "      <td>856</td>\n",
       "      <td>41</td>\n",
       "      <td>915</td>\n",
       "      <td>49</td>\n",
       "      <td>0.047563</td>\n",
       "      <td>0.054103</td>\n",
       "    </tr>\n",
       "    <tr>\n",
       "      <th>2</th>\n",
       "      <td>3</td>\n",
       "      <td>125_116</td>\n",
       "      <td>1042</td>\n",
       "      <td>64</td>\n",
       "      <td>1169</td>\n",
       "      <td>65</td>\n",
       "      <td>0.061232</td>\n",
       "      <td>0.055508</td>\n",
       "    </tr>\n",
       "    <tr>\n",
       "      <th>3</th>\n",
       "      <td>total</td>\n",
       "      <td>total</td>\n",
       "      <td>3490</td>\n",
       "      <td>189</td>\n",
       "      <td>3628</td>\n",
       "      <td>194</td>\n",
       "      <td>0.054220</td>\n",
       "      <td>0.053589</td>\n",
       "    </tr>\n",
       "  </tbody>\n",
       "</table>\n",
       "</div>"
      ],
      "text/plain": [
       "  seg_id  segment  distance_broadway  calories_broadway  distance_riverside  \\\n",
       "0      1  157_139               1591                 85                1545   \n",
       "1      2  139_125                856                 41                 915   \n",
       "2      3  125_116               1042                 64                1169   \n",
       "3  total    total               3490                189                3628   \n",
       "\n",
       "   calories_riverside  effort_broadway  effort_riverside  \n",
       "0                  80         0.053210          0.051834  \n",
       "1                  49         0.047563          0.054103  \n",
       "2                  65         0.061232          0.055508  \n",
       "3                 194         0.054220          0.053589  "
      ]
     },
     "execution_count": 43,
     "metadata": {},
     "output_type": "execute_result"
    }
   ],
   "source": [
    "df_summary['distance_broadway']=df_summary['distance_broadway'].round(0).astype('int')\n",
    "df_summary['calories_broadway']=df_summary['calories_broadway'].round(0).astype('int')\n",
    "#df_summary['effort_broadway']=df_summary['effort_broadway'].round(0).astype('int')\n",
    "df_summary['distance_riverside']=df_summary['distance_riverside'].round(0).astype('int')\n",
    "df_summary['calories_riverside']=df_summary['calories_riverside'].round(0).astype('int')\n",
    "#df_summary['effort_riverside']=df_summary['effort_riverside'].round(0).astype('int')\n",
    "df_summary"
   ]
  },
  {
   "cell_type": "code",
   "execution_count": 44,
   "id": "81d42a7b",
   "metadata": {},
   "outputs": [],
   "source": [
    "#export\n",
    "df_summary.to_csv(\"../results/commute_summary.csv\")"
   ]
  },
  {
   "cell_type": "markdown",
   "id": "2ef413ca",
   "metadata": {},
   "source": [
    "<h1>Clean Up Graphs</h1>"
   ]
  },
  {
   "cell_type": "code",
   "execution_count": 45,
   "id": "b67bbf4e",
   "metadata": {},
   "outputs": [],
   "source": [
    "df_walk_broadway = pd.read_csv(\"../results/commute_broadway_segmented.csv\")"
   ]
  },
  {
   "cell_type": "code",
   "execution_count": 47,
   "id": "3e3b1517",
   "metadata": {},
   "outputs": [
    {
     "data": {
      "text/html": [
       "\n",
       "<style>\n",
       "  #altair-viz-b72d1c97299f484195c4c1e7aa256713.vega-embed {\n",
       "    width: 100%;\n",
       "    display: flex;\n",
       "  }\n",
       "\n",
       "  #altair-viz-b72d1c97299f484195c4c1e7aa256713.vega-embed details,\n",
       "  #altair-viz-b72d1c97299f484195c4c1e7aa256713.vega-embed details summary {\n",
       "    position: relative;\n",
       "  }\n",
       "</style>\n",
       "<div id=\"altair-viz-b72d1c97299f484195c4c1e7aa256713\"></div>\n",
       "<script type=\"text/javascript\">\n",
       "  var VEGA_DEBUG = (typeof VEGA_DEBUG == \"undefined\") ? {} : VEGA_DEBUG;\n",
       "  (function(spec, embedOpt){\n",
       "    let outputDiv = document.currentScript.previousElementSibling;\n",
       "    if (outputDiv.id !== \"altair-viz-b72d1c97299f484195c4c1e7aa256713\") {\n",
       "      outputDiv = document.getElementById(\"altair-viz-b72d1c97299f484195c4c1e7aa256713\");\n",
       "    }\n",
       "    const paths = {\n",
       "      \"vega\": \"https://cdn.jsdelivr.net/npm/vega@5?noext\",\n",
       "      \"vega-lib\": \"https://cdn.jsdelivr.net/npm/vega-lib?noext\",\n",
       "      \"vega-lite\": \"https://cdn.jsdelivr.net/npm/vega-lite@5.8.0?noext\",\n",
       "      \"vega-embed\": \"https://cdn.jsdelivr.net/npm/vega-embed@6?noext\",\n",
       "    };\n",
       "\n",
       "    function maybeLoadScript(lib, version) {\n",
       "      var key = `${lib.replace(\"-\", \"\")}_version`;\n",
       "      return (VEGA_DEBUG[key] == version) ?\n",
       "        Promise.resolve(paths[lib]) :\n",
       "        new Promise(function(resolve, reject) {\n",
       "          var s = document.createElement('script');\n",
       "          document.getElementsByTagName(\"head\")[0].appendChild(s);\n",
       "          s.async = true;\n",
       "          s.onload = () => {\n",
       "            VEGA_DEBUG[key] = version;\n",
       "            return resolve(paths[lib]);\n",
       "          };\n",
       "          s.onerror = () => reject(`Error loading script: ${paths[lib]}`);\n",
       "          s.src = paths[lib];\n",
       "        });\n",
       "    }\n",
       "\n",
       "    function showError(err) {\n",
       "      outputDiv.innerHTML = `<div class=\"error\" style=\"color:red;\">${err}</div>`;\n",
       "      throw err;\n",
       "    }\n",
       "\n",
       "    function displayChart(vegaEmbed) {\n",
       "      vegaEmbed(outputDiv, spec, embedOpt)\n",
       "        .catch(err => showError(`Javascript Error: ${err.message}<br>This usually means there's a typo in your chart specification. See the javascript console for the full traceback.`));\n",
       "    }\n",
       "\n",
       "    if(typeof define === \"function\" && define.amd) {\n",
       "      requirejs.config({paths});\n",
       "      require([\"vega-embed\"], displayChart, err => showError(`Error loading script: ${err.message}`));\n",
       "    } else {\n",
       "      maybeLoadScript(\"vega\", \"5\")\n",
       "        .then(() => maybeLoadScript(\"vega-lite\", \"5.8.0\"))\n",
       "        .then(() => maybeLoadScript(\"vega-embed\", \"6\"))\n",
       "        .catch(showError)\n",
       "        .then(() => displayChart(vegaEmbed));\n",
       "    }\n",
       "  })({\"config\": {\"view\": {\"continuousWidth\": 300, \"continuousHeight\": 300}}, \"data\": {\"name\": \"data-aa9ba5f20d703f0951a12227086baf8d\"}, \"mark\": {\"type\": \"line\"}, \"encoding\": {\"color\": {\"field\": \"segment\", \"type\": \"nominal\"}, \"x\": {\"field\": \"distance_sum\", \"type\": \"quantitative\"}, \"y\": {\"field\": \"elev\", \"type\": \"quantitative\"}}, \"$schema\": \"https://vega.github.io/schema/vega-lite/v5.8.0.json\", \"datasets\": {\"data-aa9ba5f20d703f0951a12227086baf8d\": [{\"Unnamed: 0\": 0, \"lat\": 40.83477, \"long\": -73.94735, \"elev\": 25.16, \"d_distance\": 0.0, \"d_height\": 0.0, \"slope\": 0.0, \"slope_angle\": 0.0, \"d_calories\": 0.0, \"calories_sum\": 0.0, \"distance_sum\": 0.0, \"seg_id\": 1, \"segment\": \"157_139\"}, {\"Unnamed: 0\": 1, \"lat\": 40.83479, \"long\": -73.94737, \"elev\": 24.97, \"d_distance\": 2.7869513368669345, \"d_height\": -0.1900000000000012, \"slope\": -0.0681748538220253, \"slope_angle\": -3.9000965601750415, \"d_calories\": 0.1294226251651319, \"calories_sum\": 0.1294226251651319, \"distance_sum\": 2.7869513368669345, \"seg_id\": 1, \"segment\": \"157_139\"}, {\"Unnamed: 0\": 2, \"lat\": 40.83472, \"long\": -73.94747, \"elev\": 26.01, \"d_distance\": 11.45419851855974, \"d_height\": 1.0400000000000027, \"slope\": 0.0907964008406913, \"slope_angle\": 5.1880251008689084, \"d_calories\": 0.9388331732324507, \"calories_sum\": 1.068255798397583, \"distance_sum\": 14.241149855426675, \"seg_id\": 1, \"segment\": \"157_139\"}, {\"Unnamed: 0\": 3, \"lat\": 40.83444, \"long\": -73.94766, \"elev\": 26.27, \"d_distance\": 34.97621998104776, \"d_height\": 0.259999999999998, \"slope\": 0.0074336220478051, \"slope_angle\": 0.4259073249166446, \"d_calories\": 1.7390289611459422, \"calories_sum\": 2.807284759543525, \"distance_sum\": 49.21736983647444, \"seg_id\": 1, \"segment\": \"157_139\"}, {\"Unnamed: 0\": 4, \"lat\": 40.83353, \"long\": -73.94553, \"elev\": 32.0, \"d_distance\": 205.6646253354041, \"d_height\": 5.73, \"slope\": 0.0278608924148007, \"slope_angle\": 1.5958987064826609, \"d_calories\": 12.265611635955535, \"calories_sum\": 15.07289639549906, \"distance_sum\": 254.88199517187857, \"seg_id\": 1, \"segment\": \"157_139\"}, {\"Unnamed: 0\": 5, \"lat\": 40.83349, \"long\": -73.94543, \"elev\": 32.55, \"d_distance\": 9.51053673165598, \"d_height\": 0.5499999999999972, \"slope\": 0.0578305952143913, \"slope_angle\": 3.309762618549247, \"d_calories\": 0.6685016333749056, \"calories_sum\": 15.741398028873968, \"distance_sum\": 264.3925319035346, \"seg_id\": 1, \"segment\": \"157_139\"}, {\"Unnamed: 0\": 6, \"lat\": 40.83349, \"long\": -73.94543, \"elev\": 32.55, \"d_distance\": 0.0, \"d_height\": 0.0, \"slope\": 0.0, \"slope_angle\": 0.0, \"d_calories\": 0.0, \"calories_sum\": 15.741398028873968, \"distance_sum\": 264.3925319035346, \"seg_id\": 1, \"segment\": \"157_139\"}, {\"Unnamed: 0\": 7, \"lat\": 40.83349, \"long\": -73.94543, \"elev\": 32.55, \"d_distance\": 0.0, \"d_height\": 0.0, \"slope\": 0.0, \"slope_angle\": 0.0, \"d_calories\": 0.0, \"calories_sum\": 15.741398028873968, \"distance_sum\": 264.3925319035346, \"seg_id\": 1, \"segment\": \"157_139\"}, {\"Unnamed: 0\": 8, \"lat\": 40.83346, \"long\": -73.94545, \"elev\": 32.68, \"d_distance\": 3.733845803446793, \"d_height\": 0.1300000000000025, \"slope\": 0.034816649332438, \"slope_angle\": 1.994041598699244, \"d_calories\": 0.2319217543988555, \"calories_sum\": 15.973319783272824, \"distance_sum\": 268.1263777069814, \"seg_id\": 1, \"segment\": \"157_139\"}, {\"Unnamed: 0\": 9, \"lat\": 40.83343, \"long\": -73.94547, \"elev\": 32.96, \"d_distance\": 3.733846147720105, \"d_height\": 0.2800000000000011, \"slope\": 0.0749896993401749, \"slope_angle\": 4.288566445251535, \"d_calories\": 0.2851685300348352, \"calories_sum\": 16.25848831330766, \"distance_sum\": 271.8602238547015, \"seg_id\": 1, \"segment\": \"157_139\"}, {\"Unnamed: 0\": 10, \"lat\": 40.83291, \"long\": -73.94586, \"elev\": 37.0, \"d_distance\": 66.44059825942236, \"d_height\": 4.039999999999999, \"slope\": 0.0608061953961569, \"slope_angle\": 3.4796540347138847, \"d_calories\": 4.740305045851971, \"calories_sum\": 20.99879335915963, \"distance_sum\": 338.30082211412383, \"seg_id\": 1, \"segment\": \"157_139\"}, {\"Unnamed: 0\": 11, \"lat\": 40.83281, \"long\": -73.94594, \"elev\": 37.0, \"d_distance\": 12.989681729718928, \"d_height\": 0.0, \"slope\": 0.0, \"slope_angle\": 0.0, \"d_calories\": 0.6458511736342537, \"calories_sum\": 21.644644532793883, \"distance_sum\": 351.2905038438428, \"seg_id\": 1, \"segment\": \"157_139\"}, {\"Unnamed: 0\": 12, \"lat\": 40.83251, \"long\": -73.94616, \"elev\": 38.42, \"d_distance\": 38.12545616921062, \"d_height\": 1.4200000000000017, \"slope\": 0.0372454559939604, \"slope_angle\": 2.133021472909673, \"d_calories\": 2.4010321070670466, \"calories_sum\": 24.04567663986093, \"distance_sum\": 389.4159600130534, \"seg_id\": 1, \"segment\": \"157_139\"}, {\"Unnamed: 0\": 13, \"lat\": 40.8325, \"long\": -73.94616, \"elev\": 38.47, \"d_distance\": 1.1112511341905271, \"d_height\": 0.0499999999999971, \"slope\": 0.0449943297798466, \"slope_angle\": 2.5762476070544147, \"d_calories\": 0.0730445441194472, \"calories_sum\": 24.118721183980377, \"distance_sum\": 390.5272111472439, \"seg_id\": 1, \"segment\": \"157_139\"}, {\"Unnamed: 0\": 14, \"lat\": 40.83152, \"long\": -73.94687, \"elev\": 43.08, \"d_distance\": 124.19152940059764, \"d_height\": 4.609999999999999, \"slope\": 0.0371200839723116, \"slope_angle\": 2.1258481028124883, \"d_calories\": 7.81569025709399, \"calories_sum\": 31.934411441074367, \"distance_sum\": 514.7187405478415, \"seg_id\": 1, \"segment\": \"157_139\"}, {\"Unnamed: 0\": 15, \"lat\": 40.8315, \"long\": -73.94688, \"elev\": 43.06, \"d_distance\": 2.3762326107231067, \"d_height\": -0.019999999999996, \"slope\": -0.0084166844229571, \"slope_angle\": -0.4822291080146855, \"d_calories\": 0.1181470533609997, \"calories_sum\": 32.05255849443537, \"distance_sum\": 517.0949731585647, \"seg_id\": 1, \"segment\": \"157_139\"}, {\"Unnamed: 0\": 16, \"lat\": 40.8309, \"long\": -73.94734, \"elev\": 41.0, \"d_distance\": 77.08123516023471, \"d_height\": -2.0600000000000023, \"slope\": -0.0267250517680174, \"slope_angle\": -1.5308682797694635, \"d_calories\": 3.579558664495176, \"calories_sum\": 35.63211715893054, \"distance_sum\": 594.1762083187994, \"seg_id\": 1, \"segment\": \"157_139\"}, {\"Unnamed: 0\": 17, \"lat\": 40.83088, \"long\": -73.94734, \"elev\": 41.0, \"d_distance\": 2.2225022697948127, \"d_height\": 0.0, \"slope\": 0.0, \"slope_angle\": 0.0, \"d_calories\": 0.1105035311271504, \"calories_sum\": 35.74262069005769, \"distance_sum\": 596.3987105885942, \"seg_id\": 1, \"segment\": \"157_139\"}, {\"Unnamed: 0\": 18, \"lat\": 40.83066, \"long\": -73.94749, \"elev\": 39.22, \"d_distance\": 27.509128880902427, \"d_height\": -1.7800000000000011, \"slope\": -0.0647057930371515, \"slope_angle\": -3.702207757118124, \"d_calories\": 1.2774904350410374, \"calories_sum\": 37.02011112509873, \"distance_sum\": 623.9078394694966, \"seg_id\": 1, \"segment\": \"157_139\"}, {\"Unnamed: 0\": 19, \"lat\": 40.83066, \"long\": -73.9475, \"elev\": 39.13, \"d_distance\": 0.8408229374406344, \"d_height\": -0.0899999999999963, \"slope\": -0.1070379933662914, \"slope_angle\": -6.109563437994409, \"d_calories\": 0.0390467929680324, \"calories_sum\": 37.05915791806676, \"distance_sum\": 624.7486624069372, \"seg_id\": 1, \"segment\": \"157_139\"}, {\"Unnamed: 0\": 20, \"lat\": 40.83026, \"long\": -73.94779, \"elev\": 37.87, \"d_distance\": 50.69894479327247, \"d_height\": -1.2600000000000051, \"slope\": -0.0248525882567718, \"slope_angle\": -1.4236553578976008, \"d_calories\": 2.354397237385531, \"calories_sum\": 39.41355515545229, \"distance_sum\": 675.4476072002097, \"seg_id\": 1, \"segment\": \"157_139\"}, {\"Unnamed: 0\": 21, \"lat\": 40.82965, \"long\": -73.94824, \"elev\": 35.23, \"d_distance\": 77.63154334005262, \"d_height\": -2.640000000000001, \"slope\": -0.034006795258931, \"slope_angle\": -1.9476952625716288, \"d_calories\": 3.605114306009156, \"calories_sum\": 43.01866946146145, \"distance_sum\": 753.0791505402624, \"seg_id\": 1, \"segment\": \"157_139\"}, {\"Unnamed: 0\": 22, \"lat\": 40.82963, \"long\": -73.94825, \"elev\": 35.0, \"d_distance\": 2.376241001986255, \"d_height\": -0.2299999999999968, \"slope\": -0.0967915290611281, \"slope_angle\": -5.528524185998736, \"d_calories\": 0.1103497375192125, \"calories_sum\": 43.12901919898066, \"distance_sum\": 755.4553915422487, \"seg_id\": 1, \"segment\": \"157_139\"}, {\"Unnamed: 0\": 23, \"lat\": 40.82963, \"long\": -73.94825, \"elev\": 35.0, \"d_distance\": 0.0, \"d_height\": 0.0, \"slope\": 0.0, \"slope_angle\": 0.0, \"d_calories\": 0.0, \"calories_sum\": 43.12901919898066, \"distance_sum\": 755.4553915422487, \"seg_id\": 1, \"segment\": \"157_139\"}, {\"Unnamed: 0\": 24, \"lat\": 40.82903, \"long\": -73.94869, \"elev\": 34.15, \"d_distance\": 76.25181382158392, \"d_height\": -0.8500000000000014, \"slope\": -0.0111472758141708, \"slope_angle\": -0.6386654042014639, \"d_calories\": 3.791264826430525, \"calories_sum\": 46.92028402541119, \"distance_sum\": 831.7072053638326, \"seg_id\": 1, \"segment\": \"157_139\"}, {\"Unnamed: 0\": 25, \"lat\": 40.8284, \"long\": -73.94916, \"elev\": 34.02, \"d_distance\": 80.39311303413116, \"d_height\": -0.1299999999999954, \"slope\": -0.0016170539377521, \"slope_angle\": -0.0926502851223173, \"d_calories\": 3.997171561672152, \"calories_sum\": 50.91745558708335, \"distance_sum\": 912.1003183979636, \"seg_id\": 1, \"segment\": \"157_139\"}, {\"Unnamed: 0\": 26, \"lat\": 40.82778, \"long\": -73.94961, \"elev\": 34.21, \"d_distance\": 78.60424405835617, \"d_height\": 0.1899999999999977, \"slope\": 0.0024171722821854, \"slope_angle\": 0.1384935003993177, \"d_calories\": 3.9082284180661855, \"calories_sum\": 54.82568400514953, \"distance_sum\": 990.70456245632, \"seg_id\": 1, \"segment\": \"157_139\"}, {\"Unnamed: 0\": 27, \"lat\": 40.82777, \"long\": -73.94962, \"elev\": 34.18, \"d_distance\": 1.393529266041399, \"d_height\": -0.0300000000000011, \"slope\": -0.0215280731672196, \"slope_angle\": -1.23327723303183, \"d_calories\": 0.0647138015901885, \"calories_sum\": 54.89039780673972, \"distance_sum\": 992.0980917223612, \"seg_id\": 1, \"segment\": \"157_139\"}, {\"Unnamed: 0\": 28, \"lat\": 40.8275, \"long\": -73.94981, \"elev\": 34.05, \"d_distance\": 33.992220863738005, \"d_height\": -0.1300000000000025, \"slope\": -0.0038244044283285, \"slope_angle\": -0.2191211646047617, \"d_calories\": 1.6901042070223993, \"calories_sum\": 56.58050201376212, \"distance_sum\": 1026.0903125860991, \"seg_id\": 1, \"segment\": \"157_139\"}, {\"Unnamed: 0\": 29, \"lat\": 40.82749, \"long\": -73.94982, \"elev\": 34.1, \"d_distance\": 1.393531409603086, \"d_height\": 0.0500000000000042, \"slope\": 0.0358800667537487, \"slope_angle\": 2.05489488652137, \"d_calories\": 0.0870839766601925, \"calories_sum\": 56.66758599042232, \"distance_sum\": 1027.4838439957025, \"seg_id\": 1, \"segment\": \"157_139\"}, {\"Unnamed: 0\": 30, \"lat\": 40.82715, \"long\": -73.95007, \"elev\": 34.19, \"d_distance\": 43.236896793175646, \"d_height\": 0.0899999999999963, \"slope\": 0.0020815554925348, \"slope_angle\": 0.1192641722925387, \"d_calories\": 2.149752481947826, \"calories_sum\": 58.81733847237015, \"distance_sum\": 1070.7207407888782, \"seg_id\": 1, \"segment\": \"157_139\"}, {\"Unnamed: 0\": 31, \"lat\": 40.82715, \"long\": -73.95008, \"elev\": 34.11, \"d_distance\": 0.8408674459676858, \"d_height\": -0.0799999999999983, \"slope\": -0.0951398468137065, \"slope_angle\": -5.4347533589623565, \"d_calories\": 0.0390488598898107, \"calories_sum\": 58.85638733225996, \"distance_sum\": 1071.5616082348458, \"seg_id\": 1, \"segment\": \"157_139\"}, {\"Unnamed: 0\": 32, \"lat\": 40.8267, \"long\": -73.95041, \"elev\": 34.0, \"d_distance\": 57.18934865905288, \"d_height\": -0.1099999999999994, \"slope\": -0.0019234350902611, \"slope_angle\": -0.1102045769350823, \"d_calories\": 2.843472897901945, \"calories_sum\": 61.6998602301619, \"distance_sum\": 1128.7509568938988, \"seg_id\": 1, \"segment\": \"157_139\"}, {\"Unnamed: 0\": 33, \"lat\": 40.82669, \"long\": -73.95041, \"elev\": 34.0, \"d_distance\": 1.1112511348974063, \"d_height\": 0.0, \"slope\": 0.0, \"slope_angle\": 0.0, \"d_calories\": 0.0552517655635752, \"calories_sum\": 61.75511199572548, \"distance_sum\": 1129.8622080287962, \"seg_id\": 1, \"segment\": \"157_139\"}, {\"Unnamed: 0\": 34, \"lat\": 40.82659, \"long\": -73.95049, \"elev\": 34.0, \"d_distance\": 12.990008483948692, \"d_height\": 0.0, \"slope\": 0.0, \"slope_angle\": 0.0, \"d_calories\": 0.6458674199601587, \"calories_sum\": 62.40097941568564, \"distance_sum\": 1142.852216512745, \"seg_id\": 1, \"segment\": \"157_139\"}, {\"Unnamed: 0\": 35, \"lat\": 40.82649, \"long\": -73.95056, \"elev\": 34.0, \"d_distance\": 12.575149734081585, \"d_height\": 0.0, \"slope\": 0.0, \"slope_angle\": 0.0, \"d_calories\": 0.6252405088418439, \"calories_sum\": 63.02621992452748, \"distance_sum\": 1155.4273662468263, \"seg_id\": 1, \"segment\": \"157_139\"}, {\"Unnamed: 0\": 36, \"lat\": 40.82649, \"long\": -73.95057, \"elev\": 34.0, \"d_distance\": 0.8408758147399575, \"d_height\": 0.0, \"slope\": 0.0, \"slope_angle\": 0.0, \"d_calories\": 0.0418086172648829, \"calories_sum\": 63.068028541792366, \"distance_sum\": 1156.2682420615663, \"seg_id\": 1, \"segment\": \"157_139\"}, {\"Unnamed: 0\": 37, \"lat\": 40.82639, \"long\": -73.95064, \"elev\": 34.0, \"d_distance\": 12.575153889062298, \"d_height\": 0.0, \"slope\": 0.0, \"slope_angle\": 0.0, \"d_calories\": 0.6252407154288276, \"calories_sum\": 63.6932692572212, \"distance_sum\": 1168.8433959506287, \"seg_id\": 1, \"segment\": \"157_139\"}, {\"Unnamed: 0\": 38, \"lat\": 40.8258, \"long\": -73.95105, \"elev\": 34.0, \"d_distance\": 74.07574847608728, \"d_height\": 0.0, \"slope\": 0.0, \"slope_angle\": 0.0, \"d_calories\": 3.683070154187062, \"calories_sum\": 67.37633941140825, \"distance_sum\": 1242.919144426716, \"seg_id\": 1, \"segment\": \"157_139\"}, {\"Unnamed: 0\": 39, \"lat\": 40.82525, \"long\": -73.95146, \"elev\": 34.0, \"d_distance\": 70.17216030724714, \"d_height\": 0.0, \"slope\": 0.0, \"slope_angle\": 0.0, \"d_calories\": 3.488982488862505, \"calories_sum\": 70.86532190027076, \"distance_sum\": 1313.0913047339632, \"seg_id\": 1, \"segment\": \"157_139\"}, {\"Unnamed: 0\": 40, \"lat\": 40.82521, \"long\": -73.95149, \"elev\": 34.0, \"d_distance\": 5.110964330204797, \"d_height\": 0.0, \"slope\": 0.0, \"slope_angle\": 0.0, \"d_calories\": 0.2541187982699712, \"calories_sum\": 71.11944069854073, \"distance_sum\": 1318.202269064168, \"seg_id\": 1, \"segment\": \"157_139\"}, {\"Unnamed: 0\": 41, \"lat\": 40.82519, \"long\": -73.9515, \"elev\": 34.0, \"d_distance\": 2.3762609245705386, \"d_height\": 0.0, \"slope\": 0.0, \"slope_angle\": 0.0, \"d_calories\": 0.1181484611346445, \"calories_sum\": 71.23758915967537, \"distance_sum\": 1320.5785299887384, \"seg_id\": 1, \"segment\": \"157_139\"}, {\"Unnamed: 0\": 42, \"lat\": 40.82513, \"long\": -73.95155, \"elev\": 34.0, \"d_distance\": 7.882458973157286, \"d_height\": 0.0, \"slope\": 0.0, \"slope_angle\": 0.0, \"d_calories\": 0.3919184076150298, \"calories_sum\": 71.62950756729039, \"distance_sum\": 1328.4609889618955, \"seg_id\": 1, \"segment\": \"157_139\"}, {\"Unnamed: 0\": 43, \"lat\": 40.82463, \"long\": -73.95191, \"elev\": 34.0, \"d_distance\": 63.274068096100976, \"d_height\": 0.0, \"slope\": 0.0, \"slope_angle\": 0.0, \"d_calories\": 3.1460071147843864, \"calories_sum\": 74.77551468207477, \"distance_sum\": 1391.7350570579968, \"seg_id\": 1, \"segment\": \"157_139\"}, {\"Unnamed: 0\": 44, \"lat\": 40.82457, \"long\": -73.95196, \"elev\": 34.0, \"d_distance\": 7.882477909491375, \"d_height\": 0.0, \"slope\": 0.0, \"slope_angle\": 0.0, \"d_calories\": 0.3919193491356806, \"calories_sum\": 75.16743403121045, \"distance_sum\": 1399.6175349674882, \"seg_id\": 1, \"segment\": \"157_139\"}, {\"Unnamed: 0\": 45, \"lat\": 40.82452, \"long\": -73.952, \"elev\": 34.0, \"d_distance\": 6.495059268197663, \"d_height\": 0.0, \"slope\": 0.0, \"slope_angle\": 0.0, \"d_calories\": 0.3229364459016861, \"calories_sum\": 75.49037047711214, \"distance_sum\": 1406.1125942356855, \"seg_id\": 1, \"segment\": \"157_139\"}, {\"Unnamed: 0\": 46, \"lat\": 40.82431, \"long\": -73.95215, \"elev\": 34.0, \"d_distance\": 26.527021366440653, \"d_height\": 0.0, \"slope\": 0.0, \"slope_angle\": 0.0, \"d_calories\": 1.3189320753979197, \"calories_sum\": 76.80930255251006, \"distance_sum\": 1432.6396156021265, \"seg_id\": 1, \"segment\": \"157_139\"}, {\"Unnamed: 0\": 47, \"lat\": 40.8243, \"long\": -73.95215, \"elev\": 34.0, \"d_distance\": 1.1112511341905271, \"d_height\": 0.0, \"slope\": 0.0, \"slope_angle\": 0.0, \"d_calories\": 0.0552517655284289, \"calories_sum\": 76.86455431803849, \"distance_sum\": 1433.750866736317, \"seg_id\": 1, \"segment\": \"157_139\"}, {\"Unnamed: 0\": 48, \"lat\": 40.824, \"long\": -73.95237, \"elev\": 34.0, \"d_distance\": 38.12660804051408, \"d_height\": 0.0, \"slope\": 0.0, \"slope_angle\": 0.0, \"d_calories\": 1.8956672736116384, \"calories_sum\": 78.76022159165012, \"distance_sum\": 1471.8774747768311, \"seg_id\": 1, \"segment\": \"157_139\"}, {\"Unnamed: 0\": 49, \"lat\": 40.82394, \"long\": -73.95242, \"elev\": 34.0, \"d_distance\": 7.882499214558417, \"d_height\": 0.0, \"slope\": 0.0, \"slope_angle\": 0.0, \"d_calories\": 0.3919204084304993, \"calories_sum\": 79.15214200008062, \"distance_sum\": 1479.7599739913896, \"seg_id\": 1, \"segment\": \"157_139\"}, {\"Unnamed: 0\": 50, \"lat\": 40.82388, \"long\": -73.95245, \"elev\": 34.05, \"d_distance\": 7.128800137506524, \"d_height\": 0.0499999999999971, \"slope\": 0.0070138030293392, \"slope_angle\": 0.4018547224658705, \"d_calories\": 0.3544462467374281, \"calories_sum\": 79.50658824681804, \"distance_sum\": 1486.888774128896, \"seg_id\": 1, \"segment\": \"157_139\"}, {\"Unnamed: 0\": 51, \"lat\": 40.82337, \"long\": -73.95283, \"elev\": 34.26, \"d_distance\": 65.06166983981655, \"d_height\": 0.2100000000000008, \"slope\": 0.0032277068897405, \"slope_angle\": 0.184933340071713, \"d_calories\": 3.2348872512028115, \"calories_sum\": 82.74147549802085, \"distance_sum\": 1551.9504439687123, \"seg_id\": 1, \"segment\": \"157_139\"}, {\"Unnamed: 0\": 52, \"lat\": 40.82331, \"long\": -73.95287, \"elev\": 34.0, \"d_distance\": 7.46792313438939, \"d_height\": -0.259999999999998, \"slope\": -0.0348155699143061, \"slope_angle\": -1.9939798274726543, \"d_calories\": 0.3468012533260256, \"calories_sum\": 83.08827675134687, \"distance_sum\": 1559.418367103102, \"seg_id\": 1, \"segment\": \"157_139\"}, {\"Unnamed: 0\": 53, \"lat\": 40.8233, \"long\": -73.95288, \"elev\": 34.0, \"d_distance\": 1.393563466408368, \"d_height\": 0.0, \"slope\": 0.0, \"slope_angle\": 0.0, \"d_calories\": 0.0692884259245925, \"calories_sum\": 83.15756517727147, \"distance_sum\": 1560.8119305695102, \"seg_id\": 1, \"segment\": \"157_139\"}, {\"Unnamed: 0\": 54, \"lat\": 40.82326, \"long\": -73.95291, \"elev\": 34.0, \"d_distance\": 5.111000942681514, \"d_height\": 0.0, \"slope\": 0.0, \"slope_angle\": 0.0, \"d_calories\": 0.2541206186541461, \"calories_sum\": 83.4116857959256, \"distance_sum\": 1565.9229315121918, \"seg_id\": 1, \"segment\": \"157_139\"}, {\"Unnamed: 0\": 55, \"lat\": 40.82306, \"long\": -73.95306, \"elev\": 34.0, \"d_distance\": 25.55501597477836, \"d_height\": 0.0, \"slope\": 0.0, \"slope_angle\": 0.0, \"d_calories\": 1.2706036531897258, \"calories_sum\": 84.68228944911533, \"distance_sum\": 1591.4779474869702, \"seg_id\": 1, \"segment\": \"157_139\"}, {\"Unnamed: 0\": 56, \"lat\": 40.82305, \"long\": -73.95306, \"elev\": 34.0, \"d_distance\": 1.1112511341905271, \"d_height\": 0.0, \"slope\": 0.0, \"slope_angle\": 0.0, \"d_calories\": 0.0552517655284289, \"calories_sum\": 84.73754121464376, \"distance_sum\": 1592.589198621161, \"seg_id\": 2, \"segment\": \"139_125\"}, {\"Unnamed: 0\": 57, \"lat\": 40.82274, \"long\": -73.95329, \"elev\": 32.59, \"d_distance\": 39.50696790857288, \"d_height\": -1.4099999999999966, \"slope\": -0.0356899067339974, \"slope_angle\": -2.044013454374284, \"d_calories\": 1.834655464343422, \"calories_sum\": 86.57219667898718, \"distance_sum\": 1632.0961665297336, \"seg_id\": 2, \"segment\": \"139_125\"}, {\"Unnamed: 0\": 58, \"lat\": 40.82269, \"long\": -73.95333, \"elev\": 32.05, \"d_distance\": 6.495107333006786, \"d_height\": -0.5400000000000063, \"slope\": -0.0831395036777665, \"slope_angle\": -4.752612483224702, \"d_calories\": 0.3016248725433605, \"calories_sum\": 86.87382155153054, \"distance_sum\": 1638.5912738627403, \"seg_id\": 2, \"segment\": \"139_125\"}, {\"Unnamed: 0\": 59, \"lat\": 40.82264, \"long\": -73.95337, \"elev\": 32.0, \"d_distance\": 6.495108646743634, \"d_height\": -0.0499999999999971, \"slope\": -0.0076981006353242, \"slope_angle\": -0.4410599642934769, \"d_calories\": 0.3229389010189501, \"calories_sum\": 87.19676045254948, \"distance_sum\": 1645.086382509484, \"seg_id\": 2, \"segment\": \"139_125\"}, {\"Unnamed: 0\": 60, \"lat\": 40.82238, \"long\": -73.95356, \"elev\": 32.0, \"d_distance\": 33.01608608190814, \"d_height\": 0.0, \"slope\": 0.0, \"slope_angle\": 0.0, \"d_calories\": 1.641570470200529, \"calories_sum\": 88.83833092275002, \"distance_sum\": 1678.102468591392, \"seg_id\": 2, \"segment\": \"139_125\"}, {\"Unnamed: 0\": 61, \"lat\": 40.82238, \"long\": -73.95356, \"elev\": 32.0, \"d_distance\": 0.0, \"d_height\": 0.0, \"slope\": 0.0, \"slope_angle\": 0.0, \"d_calories\": 0.0, \"calories_sum\": 88.83833092275002, \"distance_sum\": 1678.102468591392, \"seg_id\": 2, \"segment\": \"139_125\"}, {\"Unnamed: 0\": 62, \"lat\": 40.82214, \"long\": -73.95374, \"elev\": 31.61, \"d_distance\": 30.66612055343044, \"d_height\": -0.3900000000000005, \"slope\": -0.0127176177801979, \"slope_angle\": -0.7286265438080834, \"d_calories\": 1.524729424657822, \"calories_sum\": 90.36306034740784, \"distance_sum\": 1708.7685891448225, \"seg_id\": 2, \"segment\": \"139_125\"}, {\"Unnamed: 0\": 63, \"lat\": 40.82207, \"long\": -73.95379, \"elev\": 31.67, \"d_distance\": 8.842410090068379, \"d_height\": 0.0600000000000022, \"slope\": 0.0067854803598617, \"slope_angle\": 0.3887734199306014, \"d_calories\": 0.4396474873868678, \"calories_sum\": 90.8027078347947, \"distance_sum\": 1717.6109992348906, \"seg_id\": 2, \"segment\": \"139_125\"}, {\"Unnamed: 0\": 64, \"lat\": 40.82207, \"long\": -73.95379, \"elev\": 31.67, \"d_distance\": 0.0, \"d_height\": 0.0, \"slope\": 0.0, \"slope_angle\": 0.0, \"d_calories\": 0.0, \"calories_sum\": 90.8027078347947, \"distance_sum\": 1717.6109992348906, \"seg_id\": 2, \"segment\": \"139_125\"}, {\"Unnamed: 0\": 65, \"lat\": 40.82201, \"long\": -73.95384, \"elev\": 31.67, \"d_distance\": 7.882564476927232, \"d_height\": 0.0, \"slope\": 0.0, \"slope_angle\": 0.0, \"d_calories\": 0.3919236532965684, \"calories_sum\": 91.19463148809128, \"distance_sum\": 1725.4935637118178, \"seg_id\": 2, \"segment\": \"139_125\"}, {\"Unnamed: 0\": 66, \"lat\": 40.82184, \"long\": -73.95396, \"elev\": 31.23, \"d_distance\": 21.417573638981093, \"d_height\": -0.4400000000000013, \"slope\": -0.0205438770710786, \"slope_angle\": -1.176911897402912, \"d_calories\": 0.9946060300215458, \"calories_sum\": 92.18923751811282, \"distance_sum\": 1746.911137350799, \"seg_id\": 2, \"segment\": \"139_125\"}, {\"Unnamed: 0\": 67, \"lat\": 40.82184, \"long\": -73.95396, \"elev\": 31.23, \"d_distance\": 0.0, \"d_height\": 0.0, \"slope\": 0.0, \"slope_angle\": 0.0, \"d_calories\": 0.0, \"calories_sum\": 92.18923751811282, \"distance_sum\": 1746.911137350799, \"seg_id\": 2, \"segment\": \"139_125\"}, {\"Unnamed: 0\": 68, \"lat\": 40.8215, \"long\": -73.9542, \"elev\": 30.49, \"d_distance\": 42.83518383740272, \"d_height\": -0.740000000000002, \"slope\": -0.0172755182470782, \"slope_angle\": -0.9897158341973988, \"d_calories\": 2.129779183960359, \"calories_sum\": 94.31901670207318, \"distance_sum\": 1789.7463211882016, \"seg_id\": 2, \"segment\": \"139_125\"}, {\"Unnamed: 0\": 69, \"lat\": 40.82144, \"long\": -73.95425, \"elev\": 30.5, \"d_distance\": 7.882583751994516, \"d_height\": 0.0100000000000015, \"slope\": 0.0012686195687386, \"slope_angle\": 0.0726865081026656, \"d_calories\": 0.3919246116591431, \"calories_sum\": 94.71094131373232, \"distance_sum\": 1797.6289049401962, \"seg_id\": 2, \"segment\": \"139_125\"}, {\"Unnamed: 0\": 70, \"lat\": 40.82143, \"long\": -73.95425, \"elev\": 30.4, \"d_distance\": 1.1112511356042851, \"d_height\": -0.1000000000000014, \"slope\": -0.089988659445214, \"slope_angle\": -5.142120012120529, \"d_calories\": 0.0516051490692058, \"calories_sum\": 94.76254646280154, \"distance_sum\": 1798.7401560758003, \"seg_id\": 2, \"segment\": \"139_125\"}, {\"Unnamed: 0\": 71, \"lat\": 40.82139, \"long\": -73.95428, \"elev\": 30.01, \"d_distance\": 5.111036050195908, \"d_height\": -0.389999999999997, \"slope\": -0.0763054684353181, \"slope_angle\": -4.363525493227913, \"d_calories\": 0.2373502881731748, \"calories_sum\": 94.99989675097471, \"distance_sum\": 1803.8511921259965, \"seg_id\": 2, \"segment\": \"139_125\"}, {\"Unnamed: 0\": 72, \"lat\": 40.82087, \"long\": -73.95466, \"elev\": 29.0, \"d_distance\": 66.03249392138407, \"d_height\": -1.0100000000000016, \"slope\": -0.0152954998368299, \"slope_angle\": -0.8762992530432198, \"d_calories\": 3.283156938291315, \"calories_sum\": 98.28305368926604, \"distance_sum\": 1869.8836860473805, \"seg_id\": 2, \"segment\": \"139_125\"}, {\"Unnamed: 0\": 73, \"lat\": 40.82082, \"long\": -73.95469, \"elev\": 29.05, \"d_distance\": 6.102188926910624, \"d_height\": 0.0500000000000007, \"slope\": 0.0081937810511734, \"slope_angle\": 0.4694585664973525, \"d_calories\": 0.3034028055642324, \"calories_sum\": 98.58645649483026, \"distance_sum\": 1875.9858749742912, \"seg_id\": 2, \"segment\": \"139_125\"}, {\"Unnamed: 0\": 74, \"lat\": 40.82081, \"long\": -73.9547, \"elev\": 29.06, \"d_distance\": 1.393582517561365, \"d_height\": 0.009999999999998, \"slope\": 0.0071757501791117, \"slope_angle\": 0.4111331435944751, \"d_calories\": 0.0692893731540765, \"calories_sum\": 98.65574586798434, \"distance_sum\": 1877.3794574918525, \"seg_id\": 2, \"segment\": \"139_125\"}, {\"Unnamed: 0\": 75, \"lat\": 40.82077, \"long\": -73.95473, \"elev\": 29.0, \"d_distance\": 5.111047690371832, \"d_height\": -0.0599999999999987, \"slope\": -0.0117392761004806, \"slope_angle\": -0.672580080009461, \"d_calories\": 0.2541229429644167, \"calories_sum\": 98.90986881094877, \"distance_sum\": 1882.4905051822243, \"seg_id\": 2, \"segment\": \"139_125\"}, {\"Unnamed: 0\": 76, \"lat\": 40.82035, \"long\": -73.95505, \"elev\": 29.0, \"d_distance\": 53.87483697022866, \"d_height\": 0.0, \"slope\": 0.0, \"slope_angle\": 0.0, \"d_calories\": 2.6786743055427555, \"calories_sum\": 101.58854311649152, \"distance_sum\": 1936.365342152453, \"seg_id\": 2, \"segment\": \"139_125\"}, {\"Unnamed: 0\": 77, \"lat\": 40.82034, \"long\": -73.95505, \"elev\": 29.0, \"d_distance\": 1.1112511341905271, \"d_height\": 0.0, \"slope\": 0.0, \"slope_angle\": 0.0, \"d_calories\": 0.0552517655284289, \"calories_sum\": 101.64379488201992, \"distance_sum\": 1937.4765932866435, \"seg_id\": 2, \"segment\": \"139_125\"}, {\"Unnamed: 0\": 78, \"lat\": 40.82025, \"long\": -73.95512, \"elev\": 28.49, \"d_distance\": 11.605094291238522, \"d_height\": -0.5100000000000016, \"slope\": -0.04394621768692, \"slope_angle\": -2.5163137386489924, \"d_calories\": 0.5389264421636684, \"calories_sum\": 102.1827213241836, \"distance_sum\": 1949.081687577882, \"seg_id\": 2, \"segment\": \"139_125\"}, {\"Unnamed: 0\": 79, \"lat\": 40.82016, \"long\": -73.95519, \"elev\": 28.0, \"d_distance\": 11.605098343345476, \"d_height\": -0.4899999999999984, \"slope\": -0.0422228218583749, \"slope_angle\": -2.417753410612667, \"d_calories\": 0.5389266303385793, \"calories_sum\": 102.72164795452218, \"distance_sum\": 1960.6867859212275, \"seg_id\": 2, \"segment\": \"139_125\"}, {\"Unnamed: 0\": 80, \"lat\": 40.82005, \"long\": -73.95526, \"elev\": 27.54, \"d_distance\": 13.567371721096755, \"d_height\": -0.4600000000000008, \"slope\": -0.033904871883529, \"slope_angle\": -1.941862208835382, \"d_calories\": 0.6300522156621191, \"calories_sum\": 103.3517001701843, \"distance_sum\": 1974.2541576423243, \"seg_id\": 2, \"segment\": \"139_125\"}, {\"Unnamed: 0\": 81, \"lat\": 40.81891, \"long\": -73.95608, \"elev\": 20.49, \"d_distance\": 144.23538655138432, \"d_height\": -7.050000000000001, \"slope\": -0.0488784352339806, \"slope_angle\": -2.7983009911167094, \"d_calories\": 6.698115651410465, \"calories_sum\": 110.04981582159476, \"distance_sum\": 2118.4895441937088, \"seg_id\": 2, \"segment\": \"139_125\"}, {\"Unnamed: 0\": 82, \"lat\": 40.81885, \"long\": -73.95612, \"elev\": 20.0, \"d_distance\": 7.468025014530052, \"d_height\": -0.4899999999999984, \"slope\": -0.0656130635672265, \"slope_angle\": -3.7539707530805098, \"d_calories\": 0.3468059845156528, \"calories_sum\": 110.39662180611042, \"distance_sum\": 2125.957569208239, \"seg_id\": 2, \"segment\": \"139_125\"}, {\"Unnamed: 0\": 83, \"lat\": 40.81879, \"long\": -73.95617, \"elev\": 20.0, \"d_distance\": 7.882673360735412, \"d_height\": 0.0, \"slope\": 0.0, \"slope_angle\": 0.0, \"d_calories\": 0.3919290670347004, \"calories_sum\": 110.78855087314513, \"distance_sum\": 2133.840242568974, \"seg_id\": 2, \"segment\": \"139_125\"}, {\"Unnamed: 0\": 84, \"lat\": 40.81828, \"long\": -73.95654, \"elev\": 17.64, \"d_distance\": 64.65395949711828, \"d_height\": -2.3599999999999994, \"slope\": -0.0365020181030859, \"slope_angle\": -2.090483459147881, \"d_calories\": 3.002451120960024, \"calories_sum\": 113.79100199410512, \"distance_sum\": 2198.4942020660924, \"seg_id\": 2, \"segment\": \"139_125\"}, {\"Unnamed: 0\": 85, \"lat\": 40.81823, \"long\": -73.95658, \"elev\": 17.0, \"d_distance\": 6.495224471615375, \"d_height\": -0.6400000000000006, \"slope\": -0.0985339310129849, \"slope_angle\": -5.627413235355569, \"d_calories\": 0.3016303123176512, \"calories_sum\": 114.0926323064228, \"distance_sum\": 2204.989426537708, \"seg_id\": 2, \"segment\": \"139_125\"}, {\"Unnamed: 0\": 86, \"lat\": 40.81818, \"long\": -73.95662, \"elev\": 17.0, \"d_distance\": 6.495225783636292, \"d_height\": 0.0, \"slope\": 0.0, \"slope_angle\": 0.0, \"d_calories\": 0.3229447251031097, \"calories_sum\": 114.4155770315259, \"distance_sum\": 2211.484652321344, \"seg_id\": 2, \"segment\": \"139_125\"}, {\"Unnamed: 0\": 87, \"lat\": 40.81766, \"long\": -73.957, \"elev\": 14.29, \"d_distance\": 66.0332423373426, \"d_height\": -2.710000000000001, \"slope\": -0.0410399354033758, \"slope_angle\": -2.350096278358389, \"d_calories\": 3.066503335889521, \"calories_sum\": 117.48208036741542, \"distance_sum\": 2277.5178946586866, \"seg_id\": 2, \"segment\": \"139_125\"}, {\"Unnamed: 0\": 88, \"lat\": 40.8176, \"long\": -73.95704, \"elev\": 14.0, \"d_distance\": 7.468053567387566, \"d_height\": -0.2899999999999991, \"slope\": -0.0388320728263663, \"slope_angle\": -2.223796555390724, \"d_calories\": 0.3468073104755742, \"calories_sum\": 117.828887677891, \"distance_sum\": 2284.985948226074, \"seg_id\": 2, \"segment\": \"139_125\"}, {\"Unnamed: 0\": 89, \"lat\": 40.81754, \"long\": -73.95709, \"elev\": 13.43, \"d_distance\": 7.882715626782303, \"d_height\": -0.5700000000000003, \"slope\": -0.0723101056777145, \"slope_angle\": -4.135865424370181, \"d_calories\": 0.3660637113941415, \"calories_sum\": 118.19495138928514, \"distance_sum\": 2292.868663852856, \"seg_id\": 2, \"segment\": \"139_125\"}, {\"Unnamed: 0\": 90, \"lat\": 40.81698, \"long\": -73.95748, \"elev\": 10.0, \"d_distance\": 70.34441619410731, \"d_height\": -3.43, \"slope\": -0.0487600890813467, \"slope_angle\": -2.79153637829644, \"d_calories\": 3.2667089981502166, \"calories_sum\": 121.46166038743536, \"distance_sum\": 2363.213080046964, \"seg_id\": 2, \"segment\": \"139_125\"}, {\"Unnamed: 0\": 91, \"lat\": 40.81642, \"long\": -73.9579, \"elev\": 7.23, \"d_distance\": 71.55574267523127, \"d_height\": -2.77, \"slope\": -0.0387110788937255, \"slope_angle\": -2.216874519159896, \"d_calories\": 3.3229615243587824, \"calories_sum\": 124.78462191179416, \"distance_sum\": 2434.7688227221947, \"seg_id\": 2, \"segment\": \"139_125\"}, {\"Unnamed: 0\": 92, \"lat\": 40.81637, \"long\": -73.95794, \"elev\": 7.0, \"d_distance\": 6.495273320336611, \"d_height\": -0.2300000000000004, \"slope\": -0.0354103651465864, \"slope_angle\": -2.028017117685797, \"d_calories\": 0.3016325807927604, \"calories_sum\": 125.0862544925869, \"distance_sum\": 2441.2640960425315, \"seg_id\": 2, \"segment\": \"139_125\"}, {\"Unnamed: 0\": 93, \"lat\": 40.81632, \"long\": -73.95798, \"elev\": 7.0, \"d_distance\": 6.495274635206893, \"d_height\": 0.0, \"slope\": 0.0, \"slope_angle\": 0.0, \"d_calories\": 0.3229471540189877, \"calories_sum\": 125.4092016466059, \"distance_sum\": 2447.7593706777384, \"seg_id\": 2, \"segment\": \"139_125\"}, {\"Unnamed: 0\": 94, \"lat\": 40.81592, \"long\": -73.9583, \"elev\": 7.0, \"d_distance\": 51.96224434306893, \"d_height\": 0.0, \"slope\": 0.0, \"slope_angle\": 0.0, \"d_calories\": 2.5835795820046705, \"calories_sum\": 127.99278122861055, \"distance_sum\": 2499.721615020808, \"seg_id\": 3, \"segment\": \"125_116\"}, {\"Unnamed: 0\": 95, \"lat\": 40.81581, \"long\": -73.95839, \"elev\": 7.15, \"d_distance\": 14.377467231926689, \"d_height\": 0.1500000000000003, \"slope\": 0.0104329919575062, \"slope_angle\": 0.5977447198513365, \"d_calories\": 0.7148523173114575, \"calories_sum\": 128.70763354592202, \"distance_sum\": 2514.099082252734, \"seg_id\": 3, \"segment\": \"125_116\"}, {\"Unnamed: 0\": 96, \"lat\": 40.81569, \"long\": -73.95848, \"elev\": 8.0, \"d_distance\": 15.333426935808786, \"d_height\": 0.8499999999999996, \"slope\": 0.0554344442086171, \"slope_angle\": 3.1729122557534666, \"d_calories\": 1.0647547155612076, \"calories_sum\": 129.77238826148323, \"distance_sum\": 2529.432509188543, \"seg_id\": 3, \"segment\": \"125_116\"}, {\"Unnamed: 0\": 97, \"lat\": 40.8155, \"long\": -73.95861, \"elev\": 8.6, \"d_distance\": 23.77658097709928, \"d_height\": 0.5999999999999996, \"slope\": 0.0252349150021989, \"slope_angle\": 1.4455473361207645, \"d_calories\": 1.3957913058440008, \"calories_sum\": 131.16817956732723, \"distance_sum\": 2553.2090901656425, \"seg_id\": 3, \"segment\": \"125_116\"}, {\"Unnamed: 0\": 98, \"lat\": 40.81523, \"long\": -73.95879, \"elev\": 10.0, \"d_distance\": 33.60647387201756, \"d_height\": 1.4000000000000004, \"slope\": 0.0416586400980827, \"slope_angle\": 2.3854849387655204, \"d_calories\": 2.169170467637385, \"calories_sum\": 133.3373500349646, \"distance_sum\": 2586.81556403766, \"seg_id\": 3, \"segment\": \"125_116\"}, {\"Unnamed: 0\": 99, \"lat\": 40.81516, \"long\": -73.95884, \"elev\": 10.62, \"d_distance\": 8.842618380978113, \"d_height\": 0.6199999999999992, \"slope\": 0.0701149787639505, \"slope_angle\": 4.010728563275049, \"d_calories\": 0.6600763776417327, \"calories_sum\": 133.99742641260633, \"distance_sum\": 2595.658182418638, \"seg_id\": 3, \"segment\": \"125_116\"}, {\"Unnamed: 0\": 100, \"lat\": 40.81508, \"long\": -73.9589, \"elev\": 11.24, \"d_distance\": 10.22230827847716, \"d_height\": 0.620000000000001, \"slope\": 0.0606516633141848, \"slope_angle\": 3.4708325323607245, \"d_calories\": 0.7287656081825741, \"calories_sum\": 134.72619202078891, \"distance_sum\": 2605.880490697115, \"seg_id\": 3, \"segment\": \"125_116\"}, {\"Unnamed: 0\": 101, \"lat\": 40.81391, \"long\": -73.95977, \"elev\": 17.0, \"d_distance\": 149.19123555747294, \"d_height\": 5.76, \"slope\": 0.0386081660794415, \"slope_angle\": 2.2109868487631883, \"d_calories\": 9.467928801914772, \"calories_sum\": 144.1941208227037, \"distance_sum\": 2755.071726254588, \"seg_id\": 3, \"segment\": \"125_116\"}, {\"Unnamed: 0\": 102, \"lat\": 40.81383, \"long\": -73.95982, \"elev\": 17.04, \"d_distance\": 9.83441876320048, \"d_height\": 0.0399999999999991, \"slope\": 0.0040673476453611, \"slope_angle\": 0.2330405688093461, \"d_calories\": 0.4889704792144427, \"calories_sum\": 144.68309130191813, \"distance_sum\": 2764.9061450177883, \"seg_id\": 3, \"segment\": \"125_116\"}, {\"Unnamed: 0\": 103, \"lat\": 40.81375, \"long\": -73.95988, \"elev\": 17.85, \"d_distance\": 10.22235821627948, \"d_height\": 0.8100000000000023, \"slope\": 0.0792380762699205, \"slope_angle\": 4.530541242130534, \"d_calories\": 0.7960949734053571, \"calories_sum\": 145.47918627532349, \"distance_sum\": 2775.128503234068, \"seg_id\": 3, \"segment\": \"125_116\"}, {\"Unnamed: 0\": 104, \"lat\": 40.8127, \"long\": -73.96063, \"elev\": 23.0, \"d_distance\": 132.64016641941365, \"d_height\": 5.149999999999999, \"slope\": 0.0388268511644918, \"slope_angle\": 2.22349782660476, \"d_calories\": 8.427883487317395, \"calories_sum\": 153.90706976264087, \"distance_sum\": 2907.768669653481, \"seg_id\": 3, \"segment\": \"125_116\"}, {\"Unnamed: 0\": 105, \"lat\": 40.81251, \"long\": -73.96076, \"elev\": 23.91, \"d_distance\": 23.77680755969248, \"d_height\": 0.91, \"slope\": 0.038272589695459, \"slope_angle\": 2.191788107698475, \"d_calories\": 1.5060794563449906, \"calories_sum\": 155.41314921898586, \"distance_sum\": 2931.545477213174, \"seg_id\": 3, \"segment\": \"125_116\"}, {\"Unnamed: 0\": 106, \"lat\": 40.81196, \"long\": -73.96117, \"elev\": 27.53, \"d_distance\": 70.17555458282938, \"d_height\": 3.620000000000001, \"slope\": 0.0515849147401785, \"slope_angle\": 2.9529804601805645, \"d_calories\": 4.777075687557892, \"calories_sum\": 160.19022490654376, \"distance_sum\": 3001.7210317960034, \"seg_id\": 3, \"segment\": \"125_116\"}, {\"Unnamed: 0\": 107, \"lat\": 40.81188, \"long\": -73.96123, \"elev\": 28.0, \"d_distance\": 10.222428426583404, \"d_height\": 0.4699999999999988, \"slope\": 0.045977333407174, \"slope_angle\": 2.632453274331173, \"d_calories\": 0.6755095872954804, \"calories_sum\": 160.86573449383926, \"distance_sum\": 3011.943460222587, \"seg_id\": 3, \"segment\": \"125_116\"}, {\"Unnamed: 0\": 108, \"lat\": 40.81181, \"long\": -73.96128, \"elev\": 28.0, \"d_distance\": 8.842719357873593, \"d_height\": 0.0, \"slope\": 0.0, \"slope_angle\": 0.0, \"d_calories\": 0.4396628642820929, \"calories_sum\": 161.30539735812135, \"distance_sum\": 3020.7861795804606, \"seg_id\": 3, \"segment\": \"125_116\"}, {\"Unnamed: 0\": 109, \"lat\": 40.81132, \"long\": -73.96164, \"elev\": 30.74, \"d_distance\": 62.30347203246768, \"d_height\": 2.7399999999999984, \"slope\": 0.0439782874150597, \"slope_angle\": 2.5181476543498165, \"d_calories\": 4.072822363058728, \"calories_sum\": 165.37821972118007, \"distance_sum\": 3083.0896516129283, \"seg_id\": 3, \"segment\": \"125_116\"}, {\"Unnamed: 0\": 110, \"lat\": 40.81126, \"long\": -73.96169, \"elev\": 31.0, \"d_distance\": 7.882927970907283, \"d_height\": 0.2600000000000015, \"slope\": 0.0329826684906366, \"slope_angle\": 1.8890828832181903, \"d_calories\": 0.4844930271394724, \"calories_sum\": 165.86271274831955, \"distance_sum\": 3090.972579583836, \"seg_id\": 3, \"segment\": \"125_116\"}, {\"Unnamed: 0\": 111, \"lat\": 40.8112, \"long\": -73.96173, \"elev\": 31.04, \"d_distance\": 7.468199754349422, \"d_height\": 0.0399999999999991, \"slope\": 0.00535604313164, \"slope_angle\": 0.3068757318871586, \"d_calories\": 0.3713213053747382, \"calories_sum\": 166.2340340536943, \"distance_sum\": 3098.4407793381847, \"seg_id\": 3, \"segment\": \"125_116\"}, {\"Unnamed: 0\": 112, \"lat\": 40.81068, \"long\": -73.96211, \"elev\": 34.0, \"d_distance\": 66.03486966332238, \"d_height\": 2.960000000000001, \"slope\": 0.0448248026397494, \"slope_angle\": 2.5665539682379066, \"d_calories\": 4.336612890509957, \"calories_sum\": 170.57064694420427, \"distance_sum\": 3164.475649001507, \"seg_id\": 3, \"segment\": \"125_116\"}, {\"Unnamed: 0\": 113, \"lat\": 40.81059, \"long\": -73.96218, \"elev\": 34.34, \"d_distance\": 11.605529140382744, \"d_height\": 0.3400000000000034, \"slope\": 0.0292963807067559, \"slope_angle\": 1.6780789932847833, \"d_calories\": 0.6980685380950442, \"calories_sum\": 171.2687154822993, \"distance_sum\": 3176.0811781418897, \"seg_id\": 3, \"segment\": \"125_116\"}, {\"Unnamed: 0\": 114, \"lat\": 40.81049, \"long\": -73.96225, \"elev\": 35.0, \"d_distance\": 12.575814426023936, \"d_height\": 0.6599999999999966, \"slope\": 0.0524816904608751, \"slope_angle\": 3.004223182892527, \"d_calories\": 0.860081222191466, \"calories_sum\": 172.12879670449078, \"distance_sum\": 3188.6569925679137, \"seg_id\": 3, \"segment\": \"125_116\"}, {\"Unnamed: 0\": 115, \"lat\": 40.81007, \"long\": -73.96256, \"elev\": 37.0, \"d_distance\": 53.461717153149465, \"d_height\": 2.0, \"slope\": 0.0374099469022045, \"slope_angle\": 2.142432994087539, \"d_calories\": 3.369993063857544, \"calories_sum\": 175.49878976834833, \"distance_sum\": 3242.118709721063, \"seg_id\": 3, \"segment\": \"125_116\"}, {\"Unnamed: 0\": 116, \"lat\": 40.81002, \"long\": -73.96259, \"elev\": 37.0, \"d_distance\": 6.102358750447553, \"d_height\": 0.0, \"slope\": 0.0, \"slope_angle\": 0.0, \"d_calories\": 0.3034112492453724, \"calories_sum\": 175.80220101759372, \"distance_sum\": 3248.2210684715105, \"seg_id\": 3, \"segment\": \"125_116\"}, {\"Unnamed: 0\": 117, \"lat\": 40.80996, \"long\": -73.96263, \"elev\": 37.43, \"d_distance\": 7.468228077639555, \"d_height\": 0.4299999999999997, \"slope\": 0.0575772453023298, \"slope_angle\": 3.295294911661716, \"d_calories\": 0.5242749447140536, \"calories_sum\": 176.32647596230777, \"distance_sum\": 3255.68929654915, \"seg_id\": 3, \"segment\": \"125_116\"}, {\"Unnamed: 0\": 118, \"lat\": 40.80943, \"long\": -73.96302, \"elev\": 40.16, \"d_distance\": 67.41495960805624, \"d_height\": 2.729999999999997, \"slope\": 0.0404954629635905, \"slope_angle\": 2.3189520681041955, \"d_calories\": 4.323503647412758, \"calories_sum\": 180.64997960972053, \"distance_sum\": 3323.1042561572062, \"seg_id\": 3, \"segment\": \"125_116\"}, {\"Unnamed: 0\": 119, \"lat\": 40.80937, \"long\": -73.96306, \"elev\": 40.8, \"d_distance\": 7.468241553082177, \"d_height\": 0.6400000000000006, \"slope\": 0.0856962104735176, \"slope_angle\": 4.8980643704507, \"d_calories\": 0.5986691130250381, \"calories_sum\": 181.2486487227456, \"distance_sum\": 3330.572497710288, \"seg_id\": 3, \"segment\": \"125_116\"}, {\"Unnamed: 0\": 120, \"lat\": 40.80932, \"long\": -73.96309, \"elev\": 41.0, \"d_distance\": 6.102369756569267, \"d_height\": 0.2000000000000028, \"slope\": 0.0327741529894514, \"slope_angle\": 1.8771487257838453, \"d_calories\": 0.3746054298655066, \"calories_sum\": 181.62325415261108, \"distance_sum\": 3336.674867466857, \"seg_id\": 3, \"segment\": \"125_116\"}, {\"Unnamed: 0\": 121, \"lat\": 40.8093, \"long\": -73.96311, \"elev\": 41.0, \"d_distance\": 2.787341068216088, \"d_height\": 0.0, \"slope\": 0.0, \"slope_angle\": 0.0, \"d_calories\": 0.1385874987304456, \"calories_sum\": 181.7618416513416, \"distance_sum\": 3339.4622085350734, \"seg_id\": 3, \"segment\": \"125_116\"}, {\"Unnamed: 0\": 122, \"lat\": 40.80895, \"long\": -73.96336, \"elev\": 41.71, \"d_distance\": 44.21400670881796, \"d_height\": 0.7100000000000009, \"slope\": 0.0160582596523286, \"slope_angle\": 0.9199914311483444, \"d_calories\": 2.1983347027379967, \"calories_sum\": 183.96017635407955, \"distance_sum\": 3383.6762152438914, \"seg_id\": 3, \"segment\": \"125_116\"}, {\"Unnamed: 0\": 123, \"lat\": 40.8089, \"long\": -73.9634, \"elev\": 41.28, \"d_distance\": 6.495469499356801, \"d_height\": -0.4299999999999997, \"slope\": -0.0661999875517204, \"slope_angle\": -3.78745358098365, \"d_calories\": 0.301641691107483, \"calories_sum\": 184.26181804518703, \"distance_sum\": 3390.171684743248, \"seg_id\": 3, \"segment\": \"125_116\"}, {\"Unnamed: 0\": 124, \"lat\": 40.80816, \"long\": -73.96393, \"elev\": 41.0, \"d_distance\": 93.53843730913955, \"d_height\": -0.2800000000000011, \"slope\": -0.0029934218280193, \"slope_angle\": -0.1715099247732659, \"d_calories\": 4.650761332959084, \"calories_sum\": 188.9125793781461, \"distance_sum\": 3483.710122052388, \"seg_id\": 3, \"segment\": \"125_116\"}, {\"Unnamed: 0\": 125, \"lat\": 40.80813, \"long\": -73.96387, \"elev\": 41.0, \"d_distance\": 6.048354408340894, \"d_height\": 0.0, \"slope\": 0.0, \"slope_angle\": 0.0, \"d_calories\": 0.3007261359025926, \"calories_sum\": 189.2133055140487, \"distance_sum\": 3489.7584764607286, \"seg_id\": 3, \"segment\": \"125_116\"}]}}, {\"mode\": \"vega-lite\"});\n",
       "</script>"
      ],
      "text/plain": [
       "alt.Chart(...)"
      ]
     },
     "execution_count": 47,
     "metadata": {},
     "output_type": "execute_result"
    }
   ],
   "source": [
    "# chart_broadway = alt.Chart(df_walk_broadway).mark_line().encode(\n",
    "alt.Chart(df_walk_broadway).mark_line().encode(\n",
    "    x='distance_sum',\n",
    "    y='elev',\n",
    "    #y=alt.Y(max=3650),\n",
    "    color='segment:N'\n",
    ")\n",
    "# chart_broadway.show()"
   ]
  },
  {
   "cell_type": "code",
   "execution_count": null,
   "id": "1a18f1db",
   "metadata": {},
   "outputs": [],
   "source": []
  },
  {
   "cell_type": "code",
   "execution_count": 13,
   "id": "61d21f6a",
   "metadata": {},
   "outputs": [],
   "source": [
    "# df_walk_riverside = pd.read_csv(\"../results/commute_riverside_segmented.csv\")"
   ]
  },
  {
   "cell_type": "code",
   "execution_count": 35,
   "id": "a626ff07",
   "metadata": {},
   "outputs": [],
   "source": [
    "# alt.Chart(df_walk_riverside).mark_line().encode(\n",
    "#     x='distance_sum',\n",
    "#     y='elev',\n",
    "#     color='segment:N',\n",
    "# )"
   ]
  },
  {
   "cell_type": "code",
   "execution_count": null,
   "id": "48be9bcf",
   "metadata": {},
   "outputs": [],
   "source": [
    "df_walk_riverside = pd.read_csv(\"../results/commute_riverside_segmented.csv\")"
   ]
  },
  {
   "cell_type": "code",
   "execution_count": null,
   "id": "0a43475b",
   "metadata": {},
   "outputs": [],
   "source": [
    "# chart_broadway = alt.Chart(df_walk_broadway).mark_line().encode(\n",
    "alt.Chart(df_walk_riverside).mark_line().encode(\n",
    "    x='distance_sum',\n",
    "    y='elev',\n",
    "    #y=alt.Y(max=3650),\n",
    "    color='segment:N'\n",
    ")\n",
    "# chart_broadway.show()"
   ]
  }
 ],
 "metadata": {
  "kernelspec": {
   "display_name": "Python 3 (ipykernel)",
   "language": "python",
   "name": "python3"
  },
  "language_info": {
   "codemirror_mode": {
    "name": "ipython",
    "version": 3
   },
   "file_extension": ".py",
   "mimetype": "text/x-python",
   "name": "python",
   "nbconvert_exporter": "python",
   "pygments_lexer": "ipython3",
   "version": "3.10.6"
  }
 },
 "nbformat": 4,
 "nbformat_minor": 5
}
